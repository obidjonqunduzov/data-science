{
  "nbformat": 4,
  "nbformat_minor": 0,
  "metadata": {
    "colab": {
      "provenance": [],
      "authorship_tag": "ABX9TyOQfME0knZQKM2catRlDO8E",
      "include_colab_link": true
    },
    "kernelspec": {
      "name": "python3",
      "display_name": "Python 3"
    },
    "language_info": {
      "name": "python"
    }
  },
  "cells": [
    {
      "cell_type": "markdown",
      "metadata": {
        "id": "view-in-github",
        "colab_type": "text"
      },
      "source": [
        "<a href=\"https://colab.research.google.com/github/obidjonqunduzov/data-science/blob/main/2_2_Series_lugat.ipynb\" target=\"_parent\"><img src=\"https://colab.research.google.com/assets/colab-badge.svg\" alt=\"Open In Colab\"/></a>"
      ]
    },
    {
      "cell_type": "code",
      "execution_count": null,
      "metadata": {
        "id": "B3zRWYFwSMhN"
      },
      "outputs": [],
      "source": [
        "import pandas as pd"
      ]
    },
    {
      "cell_type": "code",
      "source": [
        "import numpy as np"
      ],
      "metadata": {
        "id": "RTvcmqJicYLZ"
      },
      "execution_count": null,
      "outputs": []
    },
    {
      "cell_type": "code",
      "source": [
        "cars_info = {'mers':40000, 'opel':25000, 'bmw':45000, 'honda':30000}\n",
        "pd.Series(cars_info) # yaratgan lu'gatimizni tartibli ko'rinishda chiqarib beradi"
      ],
      "metadata": {
        "colab": {
          "base_uri": "https://localhost:8080/"
        },
        "id": "UNqeKM5SSf0X",
        "outputId": "f8c18114-4ecb-4b55-e403-31bdfd3a4400"
      },
      "execution_count": null,
      "outputs": [
        {
          "output_type": "execute_result",
          "data": {
            "text/plain": [
              "mers     40000\n",
              "opel     25000\n",
              "bmw      45000\n",
              "honda    30000\n",
              "dtype: int64"
            ]
          },
          "metadata": {},
          "execution_count": 5
        }
      ]
    },
    {
      "cell_type": "code",
      "source": [
        "cars_info = pd.Series({'mers':40000, 'opel':25000, 'BMW':45000, 'honda':30000})\n",
        "cars_info"
      ],
      "metadata": {
        "colab": {
          "base_uri": "https://localhost:8080/"
        },
        "id": "UVMI2WHYS-mK",
        "outputId": "c4a58889-2813-4714-8e58-23ebd8e15285"
      },
      "execution_count": null,
      "outputs": [
        {
          "output_type": "execute_result",
          "data": {
            "text/plain": [
              "mers     40000\n",
              "opel     25000\n",
              "BMW      45000\n",
              "honda    30000\n",
              "dtype: int64"
            ]
          },
          "metadata": {},
          "execution_count": 18
        }
      ]
    },
    {
      "cell_type": "code",
      "source": [
        "'mers' in  cars_info # agar ush bu avtomobil lu'gatda bo'lsa True qaytaradi"
      ],
      "metadata": {
        "colab": {
          "base_uri": "https://localhost:8080/"
        },
        "id": "Qwk5USnKTcFt",
        "outputId": "dabf6e94-a403-4b2d-ca1f-d31eeb750743"
      },
      "execution_count": null,
      "outputs": [
        {
          "output_type": "execute_result",
          "data": {
            "text/plain": [
              "True"
            ]
          },
          "metadata": {},
          "execution_count": 8
        }
      ]
    },
    {
      "cell_type": "code",
      "source": [
        "'ford' in cars_info # agar lu'gatimizda bu avtomobil bo'lmasa False qaytaradi"
      ],
      "metadata": {
        "colab": {
          "base_uri": "https://localhost:8080/"
        },
        "id": "imiXJ83LTqKX",
        "outputId": "14cb6f1b-a887-4f73-e6ba-da41157843a2"
      },
      "execution_count": null,
      "outputs": [
        {
          "output_type": "execute_result",
          "data": {
            "text/plain": [
              "False"
            ]
          },
          "metadata": {},
          "execution_count": 9
        }
      ]
    },
    {
      "cell_type": "code",
      "source": [
        "cars_info['mers'] # ushbu avtomobilning narxini qaytaradi"
      ],
      "metadata": {
        "colab": {
          "base_uri": "https://localhost:8080/"
        },
        "id": "EpEhgRfQTusq",
        "outputId": "4c040984-7ace-4a96-e8c8-c2f89e9db6e0"
      },
      "execution_count": null,
      "outputs": [
        {
          "output_type": "execute_result",
          "data": {
            "text/plain": [
              "40000"
            ]
          },
          "metadata": {},
          "execution_count": 10
        }
      ]
    },
    {
      "cell_type": "code",
      "source": [
        "models = ['jaguar','tayota','opel','mers','ford','tesla','BMW'] # yangi ro'yxat yaratib olamiz\n"
      ],
      "metadata": {
        "id": "fVuSHTmYU67Y"
      },
      "execution_count": null,
      "outputs": []
    },
    {
      "cell_type": "code",
      "source": [
        "cars_info"
      ],
      "metadata": {
        "colab": {
          "base_uri": "https://localhost:8080/"
        },
        "id": "8BFzO9NlWivv",
        "outputId": "ce52e9ea-e550-4a44-82ad-9b26009dd2b2"
      },
      "execution_count": null,
      "outputs": [
        {
          "output_type": "execute_result",
          "data": {
            "text/plain": [
              "mers     40000\n",
              "opel     25000\n",
              "BMW      45000\n",
              "honda    30000\n",
              "dtype: int64"
            ]
          },
          "metadata": {},
          "execution_count": 19
        }
      ]
    },
    {
      "cell_type": "code",
      "source": [
        "cars_info_2 = pd.Series(cars_info, index = models) # bunda indexda mavjud bo'lmagan avtomobillarga NaN(mavjud emas) qaytaradi\n",
        "cars_info_2 # birinchi ro'yxat bilan ikkinchi royxatdagi bir xil avtomobillarni narxi bilan yo'qlarini esa NaN qaytaradi"
      ],
      "metadata": {
        "colab": {
          "base_uri": "https://localhost:8080/"
        },
        "id": "VUJHN55yVYUE",
        "outputId": "3c44857a-71c9-45ca-8c41-6f0577de658f"
      },
      "execution_count": null,
      "outputs": [
        {
          "output_type": "execute_result",
          "data": {
            "text/plain": [
              "jaguar        NaN\n",
              "tayota        NaN\n",
              "opel      25000.0\n",
              "mers      40000.0\n",
              "ford          NaN\n",
              "tesla         NaN\n",
              "BMW       45000.0\n",
              "dtype: float64"
            ]
          },
          "metadata": {},
          "execution_count": 21
        }
      ]
    },
    {
      "cell_type": "code",
      "source": [
        "cars_info_2['mazda'] = 47000 # bu usul orqali yangi avtomobil qo'shamiz\n",
        "cars_info_2"
      ],
      "metadata": {
        "colab": {
          "base_uri": "https://localhost:8080/"
        },
        "id": "UqBbzLSqVlhj",
        "outputId": "168448a6-1d2d-4657-904f-34a0e7e482d5"
      },
      "execution_count": null,
      "outputs": [
        {
          "output_type": "execute_result",
          "data": {
            "text/plain": [
              "jaguar        NaN\n",
              "tayota        NaN\n",
              "opel      25000.0\n",
              "mers      40000.0\n",
              "ford          NaN\n",
              "tesla         NaN\n",
              "BMW       45000.0\n",
              "mazda     47000.0\n",
              "dtype: float64"
            ]
          },
          "metadata": {},
          "execution_count": 24
        }
      ]
    },
    {
      "cell_type": "code",
      "source": [
        "cars_info + cars_info_2 # bu usul ikkala ro'yxatda bor bo'lgan avtomobillarni narxini bir-biriga qoshadi"
      ],
      "metadata": {
        "colab": {
          "base_uri": "https://localhost:8080/"
        },
        "id": "Fuzf7TvwZl86",
        "outputId": "fbf116ce-5c08-45e1-853d-8dbe81348e40"
      },
      "execution_count": null,
      "outputs": [
        {
          "output_type": "execute_result",
          "data": {
            "text/plain": [
              "BMW       90000.0\n",
              "ford          NaN\n",
              "honda         NaN\n",
              "jaguar        NaN\n",
              "mazda         NaN\n",
              "mers      80000.0\n",
              "opel      50000.0\n",
              "tayota        NaN\n",
              "tesla         NaN\n",
              "dtype: float64"
            ]
          },
          "metadata": {},
          "execution_count": 25
        }
      ]
    },
    {
      "cell_type": "code",
      "source": [
        "cars_info_2.notnull() # qiymatga ega avtomobillarni True , agar qiymatlari yo'q bo'lsa False qaytaradi"
      ],
      "metadata": {
        "colab": {
          "base_uri": "https://localhost:8080/"
        },
        "id": "dkY200mHabYl",
        "outputId": "f0c370c8-862d-4211-8b67-0ce15192bf2e"
      },
      "execution_count": null,
      "outputs": [
        {
          "output_type": "execute_result",
          "data": {
            "text/plain": [
              "jaguar    False\n",
              "tayota    False\n",
              "opel       True\n",
              "mers       True\n",
              "ford      False\n",
              "tesla     False\n",
              "BMW        True\n",
              "mazda      True\n",
              "dtype: bool"
            ]
          },
          "metadata": {},
          "execution_count": 26
        }
      ]
    },
    {
      "cell_type": "code",
      "source": [
        "cars_info_2.isnull() # aksincha qiymati yoqlarni True qaytaradi"
      ],
      "metadata": {
        "colab": {
          "base_uri": "https://localhost:8080/"
        },
        "id": "uhD-Ntswa6_r",
        "outputId": "476cb0c7-7289-45f6-ec0e-19e52d564ac6"
      },
      "execution_count": null,
      "outputs": [
        {
          "output_type": "execute_result",
          "data": {
            "text/plain": [
              "jaguar     True\n",
              "tayota     True\n",
              "opel      False\n",
              "mers      False\n",
              "ford       True\n",
              "tesla      True\n",
              "BMW       False\n",
              "mazda     False\n",
              "dtype: bool"
            ]
          },
          "metadata": {},
          "execution_count": 28
        }
      ]
    },
    {
      "cell_type": "code",
      "source": [
        "cars_info_2.name = ('Avtosalon')"
      ],
      "metadata": {
        "id": "7uWEjujObK2M"
      },
      "execution_count": null,
      "outputs": []
    },
    {
      "cell_type": "code",
      "source": [
        "cars_info_2.index.name = 'Models'"
      ],
      "metadata": {
        "id": "cYEYIW9ccAIa"
      },
      "execution_count": null,
      "outputs": []
    },
    {
      "cell_type": "code",
      "source": [
        "cars_info_2"
      ],
      "metadata": {
        "colab": {
          "base_uri": "https://localhost:8080/"
        },
        "id": "fNWZiryRcJQH",
        "outputId": "00d3ecb5-ecf7-4c13-8ac1-85e77a848a53"
      },
      "execution_count": null,
      "outputs": [
        {
          "output_type": "execute_result",
          "data": {
            "text/plain": [
              "Models\n",
              "jaguar        NaN\n",
              "tayota        NaN\n",
              "opel      25000.0\n",
              "mers      40000.0\n",
              "ford          NaN\n",
              "tesla         NaN\n",
              "BMW       45000.0\n",
              "mazda     47000.0\n",
              "Name: Avtosalon, dtype: float64"
            ]
          },
          "metadata": {},
          "execution_count": 31
        }
      ]
    },
    {
      "cell_type": "code",
      "source": [
        "cars_info.values # faqat qiymatlarini qaytaradi"
      ],
      "metadata": {
        "colab": {
          "base_uri": "https://localhost:8080/"
        },
        "id": "dw1bg7q0cKxE",
        "outputId": "97e5f5af-2f5f-46d0-d1a4-76ad7d5fb486"
      },
      "execution_count": null,
      "outputs": [
        {
          "output_type": "execute_result",
          "data": {
            "text/plain": [
              "array([40000, 25000, 45000, 30000])"
            ]
          },
          "metadata": {},
          "execution_count": 37
        }
      ]
    },
    {
      "cell_type": "code",
      "source": [
        "cars_info_2.iloc[2] # ma'limotlarga index tartib raqami bo'yicha murojiat qilish"
      ],
      "metadata": {
        "id": "v0Y1xzZDcUM-",
        "colab": {
          "base_uri": "https://localhost:8080/"
        },
        "outputId": "f40b62e7-2044-400c-8c79-f7f7ef5dcfe3"
      },
      "execution_count": null,
      "outputs": [
        {
          "output_type": "execute_result",
          "data": {
            "text/plain": [
              "25000.0"
            ]
          },
          "metadata": {},
          "execution_count": 39
        }
      ]
    },
    {
      "cell_type": "code",
      "source": [
        "cars_info_2.loc['ford'] # ma'lumotlarga index bo'yicha murojiat qilish"
      ],
      "metadata": {
        "colab": {
          "base_uri": "https://localhost:8080/"
        },
        "id": "H0GHscu4gRdJ",
        "outputId": "75b55fbf-75d7-4ffc-fbb5-2160e3d577eb"
      },
      "execution_count": null,
      "outputs": [
        {
          "output_type": "execute_result",
          "data": {
            "text/plain": [
              "nan"
            ]
          },
          "metadata": {},
          "execution_count": 43
        }
      ]
    },
    {
      "cell_type": "code",
      "source": [
        "cars_info_2['mers'] # ikkinchi usuli"
      ],
      "metadata": {
        "colab": {
          "base_uri": "https://localhost:8080/"
        },
        "id": "KspHPtCUgowl",
        "outputId": "2820b57c-abe1-4c34-c1d2-4ff89dfff4e9"
      },
      "execution_count": null,
      "outputs": [
        {
          "output_type": "execute_result",
          "data": {
            "text/plain": [
              "40000.0"
            ]
          },
          "metadata": {},
          "execution_count": 44
        }
      ]
    },
    {
      "cell_type": "code",
      "source": [
        "cars_info"
      ],
      "metadata": {
        "colab": {
          "base_uri": "https://localhost:8080/"
        },
        "id": "aOuaxoF6hcmS",
        "outputId": "3bbb6460-50a7-46bd-a532-df0b8b0605a3"
      },
      "execution_count": null,
      "outputs": [
        {
          "output_type": "execute_result",
          "data": {
            "text/plain": [
              "mers     40000\n",
              "opel     25000\n",
              "BMW      45000\n",
              "honda    30000\n",
              "dtype: int64"
            ]
          },
          "metadata": {},
          "execution_count": 50
        }
      ]
    },
    {
      "cell_type": "code",
      "source": [
        "cars_info.max() # ro'yxat ichidagi eng katta qiymatni qaytaradi"
      ],
      "metadata": {
        "colab": {
          "base_uri": "https://localhost:8080/"
        },
        "id": "pE7M3rdHgwwo",
        "outputId": "d5c3f128-b322-4ca9-e439-5544cf05b098"
      },
      "execution_count": null,
      "outputs": [
        {
          "output_type": "execute_result",
          "data": {
            "text/plain": [
              "45000"
            ]
          },
          "metadata": {},
          "execution_count": 51
        }
      ]
    },
    {
      "cell_type": "code",
      "source": [
        "cars_info.min() # ro'yxat ichidagi eng kichik qiymatni qaytaradi"
      ],
      "metadata": {
        "colab": {
          "base_uri": "https://localhost:8080/"
        },
        "id": "kW8mt2bchAUb",
        "outputId": "9d22eec8-2659-4ade-cc12-fc8607e5155a"
      },
      "execution_count": null,
      "outputs": [
        {
          "output_type": "execute_result",
          "data": {
            "text/plain": [
              "25000"
            ]
          },
          "metadata": {},
          "execution_count": 52
        }
      ]
    },
    {
      "cell_type": "code",
      "source": [
        "cars_info.mean() # hamma qiymatni qoshib va ularning soniga bo'lib umumiy ro'yxatning o'rtacha qiymatini qaytaradi"
      ],
      "metadata": {
        "colab": {
          "base_uri": "https://localhost:8080/"
        },
        "id": "1hFWVEMuhM4W",
        "outputId": "c30ed0b0-ec69-4954-85fe-d01e6b1cdb40"
      },
      "execution_count": null,
      "outputs": [
        {
          "output_type": "execute_result",
          "data": {
            "text/plain": [
              "35000.0"
            ]
          },
          "metadata": {},
          "execution_count": 54
        }
      ]
    },
    {
      "cell_type": "code",
      "source": [],
      "metadata": {
        "id": "JU1VUNdKhVjB"
      },
      "execution_count": null,
      "outputs": []
    }
  ]
}