{
  "nbformat": 4,
  "nbformat_minor": 0,
  "metadata": {
    "colab": {
      "provenance": [],
      "authorship_tag": "ABX9TyPbkJXvuYTSQvfzGGHhAhVe",
      "include_colab_link": true
    },
    "kernelspec": {
      "name": "python3",
      "display_name": "Python 3"
    },
    "language_info": {
      "name": "python"
    }
  },
  "cells": [
    {
      "cell_type": "markdown",
      "metadata": {
        "id": "view-in-github",
        "colab_type": "text"
      },
      "source": [
        "<a href=\"https://colab.research.google.com/github/obidjonqunduzov/data-science/blob/main/2_2_Series_lugat.ipynb\" target=\"_parent\"><img src=\"https://colab.research.google.com/assets/colab-badge.svg\" alt=\"Open In Colab\"/></a>"
      ]
    },
    {
      "cell_type": "code",
      "execution_count": 1,
      "metadata": {
        "id": "B3zRWYFwSMhN"
      },
      "outputs": [],
      "source": [
        "import pandas as pd"
      ]
    },
    {
      "cell_type": "code",
      "source": [
        "cars_info = {'mers':40000, 'opel':25000, 'bmw':45000, 'honda':30000}\n",
        "pd.Series(cars_info) # yaratgan lu'gatimizni tartibli ko'rinishda chiqarib beradi"
      ],
      "metadata": {
        "colab": {
          "base_uri": "https://localhost:8080/"
        },
        "id": "UNqeKM5SSf0X",
        "outputId": "f8c18114-4ecb-4b55-e403-31bdfd3a4400"
      },
      "execution_count": 5,
      "outputs": [
        {
          "output_type": "execute_result",
          "data": {
            "text/plain": [
              "mers     40000\n",
              "opel     25000\n",
              "bmw      45000\n",
              "honda    30000\n",
              "dtype: int64"
            ]
          },
          "metadata": {},
          "execution_count": 5
        }
      ]
    },
    {
      "cell_type": "code",
      "source": [
        "cars_info = pd.Series({'mers':40000, 'opel':25000, 'BMW':45000, 'honda':30000})\n",
        "cars_info"
      ],
      "metadata": {
        "colab": {
          "base_uri": "https://localhost:8080/"
        },
        "id": "UVMI2WHYS-mK",
        "outputId": "c4a58889-2813-4714-8e58-23ebd8e15285"
      },
      "execution_count": 18,
      "outputs": [
        {
          "output_type": "execute_result",
          "data": {
            "text/plain": [
              "mers     40000\n",
              "opel     25000\n",
              "BMW      45000\n",
              "honda    30000\n",
              "dtype: int64"
            ]
          },
          "metadata": {},
          "execution_count": 18
        }
      ]
    },
    {
      "cell_type": "code",
      "source": [
        "'mers' in  cars_info # agar ush bu avtomobil lu'gatda bo'lsa True qaytaradi"
      ],
      "metadata": {
        "colab": {
          "base_uri": "https://localhost:8080/"
        },
        "id": "Qwk5USnKTcFt",
        "outputId": "dabf6e94-a403-4b2d-ca1f-d31eeb750743"
      },
      "execution_count": 8,
      "outputs": [
        {
          "output_type": "execute_result",
          "data": {
            "text/plain": [
              "True"
            ]
          },
          "metadata": {},
          "execution_count": 8
        }
      ]
    },
    {
      "cell_type": "code",
      "source": [
        "'ford' in cars_info # agar lu'gatimizda bu avtomobil bo'lmasa False qaytaradi"
      ],
      "metadata": {
        "colab": {
          "base_uri": "https://localhost:8080/"
        },
        "id": "imiXJ83LTqKX",
        "outputId": "14cb6f1b-a887-4f73-e6ba-da41157843a2"
      },
      "execution_count": 9,
      "outputs": [
        {
          "output_type": "execute_result",
          "data": {
            "text/plain": [
              "False"
            ]
          },
          "metadata": {},
          "execution_count": 9
        }
      ]
    },
    {
      "cell_type": "code",
      "source": [
        "cars_info['mers'] # ushbu avtomobilning narxini qaytaradi"
      ],
      "metadata": {
        "colab": {
          "base_uri": "https://localhost:8080/"
        },
        "id": "EpEhgRfQTusq",
        "outputId": "4c040984-7ace-4a96-e8c8-c2f89e9db6e0"
      },
      "execution_count": 10,
      "outputs": [
        {
          "output_type": "execute_result",
          "data": {
            "text/plain": [
              "40000"
            ]
          },
          "metadata": {},
          "execution_count": 10
        }
      ]
    },
    {
      "cell_type": "code",
      "source": [
        "models = ['jaguar','tayota','opel','mers','ford','tesla','BMW'] # yangi ro'yxat yaratib olamiz\n"
      ],
      "metadata": {
        "id": "fVuSHTmYU67Y"
      },
      "execution_count": 20,
      "outputs": []
    },
    {
      "cell_type": "code",
      "source": [
        "cars_info"
      ],
      "metadata": {
        "colab": {
          "base_uri": "https://localhost:8080/"
        },
        "id": "8BFzO9NlWivv",
        "outputId": "ce52e9ea-e550-4a44-82ad-9b26009dd2b2"
      },
      "execution_count": 19,
      "outputs": [
        {
          "output_type": "execute_result",
          "data": {
            "text/plain": [
              "mers     40000\n",
              "opel     25000\n",
              "BMW      45000\n",
              "honda    30000\n",
              "dtype: int64"
            ]
          },
          "metadata": {},
          "execution_count": 19
        }
      ]
    },
    {
      "cell_type": "code",
      "source": [
        "cars_info_2 = pd.Series(cars_info, index = models) # bunda indexda mavjud bo'lmagan avtomobillarga NaN(mavjud emas) qaytaradi\n",
        "cars_info_2 # birinchi ro'yxat bilan ikkinchi royxatdagi bir xil avtomobillarni narxi bilan yo'qlarini esa NaN qaytaradi"
      ],
      "metadata": {
        "colab": {
          "base_uri": "https://localhost:8080/"
        },
        "id": "VUJHN55yVYUE",
        "outputId": "3c44857a-71c9-45ca-8c41-6f0577de658f"
      },
      "execution_count": 21,
      "outputs": [
        {
          "output_type": "execute_result",
          "data": {
            "text/plain": [
              "jaguar        NaN\n",
              "tayota        NaN\n",
              "opel      25000.0\n",
              "mers      40000.0\n",
              "ford          NaN\n",
              "tesla         NaN\n",
              "BMW       45000.0\n",
              "dtype: float64"
            ]
          },
          "metadata": {},
          "execution_count": 21
        }
      ]
    },
    {
      "cell_type": "code",
      "source": [],
      "metadata": {
        "id": "UqBbzLSqVlhj"
      },
      "execution_count": null,
      "outputs": []
    }
  ]
}