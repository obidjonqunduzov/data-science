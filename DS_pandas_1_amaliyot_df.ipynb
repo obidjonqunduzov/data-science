{
  "nbformat": 4,
  "nbformat_minor": 0,
  "metadata": {
    "colab": {
      "provenance": [],
      "include_colab_link": true
    },
    "kernelspec": {
      "display_name": "Python 3",
      "language": "python",
      "name": "python3"
    },
    "language_info": {
      "codemirror_mode": {
        "name": "ipython",
        "version": 3
      },
      "file_extension": ".py",
      "mimetype": "text/x-python",
      "name": "python",
      "nbconvert_exporter": "python",
      "pygments_lexer": "ipython3",
      "version": "3.8.8"
    }
  },
  "cells": [
    {
      "cell_type": "markdown",
      "metadata": {
        "id": "view-in-github",
        "colab_type": "text"
      },
      "source": [
        "<a href=\"https://colab.research.google.com/github/obidjonqunduzov/data-science/blob/main/DS_pandas_1_amaliyot_df.ipynb\" target=\"_parent\"><img src=\"https://colab.research.google.com/assets/colab-badge.svg\" alt=\"Open In Colab\"/></a>"
      ]
    },
    {
      "cell_type": "markdown",
      "metadata": {
        "id": "WyTfPJtEqH5C"
      },
      "source": [
        "# ![Imgur](https://i.imgur.com/5pXzCIu.png)\n",
        "\n",
        "# **DATA SCIENCE VA SUN'IY INTELLEKT PRAKTIKUM**\n",
        "\n",
        "## Ma'lumotlar tahlili. Pandas kutubxonasi.\n",
        "\n",
        "# **AMALIYOT**\n",
        "## 3.1 Series va Index"
      ]
    },
    {
      "cell_type": "markdown",
      "metadata": {
        "id": "FNLOb9yhxI0b"
      },
      "source": [
        "### **1-mashq**. `Pandas` kutubxonasini `pd`, `numpy` kutubxonasini `np` deb chaqirib oling"
      ]
    },
    {
      "cell_type": "code",
      "metadata": {
        "id": "GrbBfqRpxIFr"
      },
      "source": [
        "# Javobni shuyerga yozing\n",
        "import pandas as pd\n",
        "import numpy as np"
      ],
      "execution_count": 2,
      "outputs": []
    },
    {
      "cell_type": "code",
      "metadata": {
        "code_folding": [],
        "id": "24df0gBjIppl",
        "jupyter": {
          "source_hidden": true
        },
        "tags": [],
        "cellView": "form"
      },
      "source": [
        "#@title To'g'ri javob\n",
        "import pandas as pd\n",
        "import numpy as np"
      ],
      "execution_count": 3,
      "outputs": []
    },
    {
      "cell_type": "markdown",
      "metadata": {
        "id": "4Utgz2Bf3GgB"
      },
      "source": [
        "### **2-mashq.** O'zbekiston Respublikasi viloyatlaridan iborat bir o'lchamli Series obyektini yarating"
      ]
    },
    {
      "cell_type": "code",
      "metadata": {
        "id": "PD7qQQH9oA87",
        "colab": {
          "base_uri": "https://localhost:8080/"
        },
        "outputId": "28d87f1b-8ead-43ea-ab7f-292b85faf378"
      },
      "source": [
        "# Javobni shu yerga yozing\n",
        "obj = pd.Series([\n",
        "        \"Andijon\",\n",
        "        \"Buxoro\",\n",
        "        \"Farg'ona\",\n",
        "        \"Jizzax\",\n",
        "        \"Xorazm\",\n",
        "        \"Namangan\",\n",
        "        \"Navoiy\",\n",
        "        \"Qashqadaryo\",\n",
        "        \"Qoraqalpog'iston Respublikasi\",\n",
        "        \"Samarqand\",\n",
        "        \"Sirdaryo\",\n",
        "        \"Surxondaryo\",\n",
        "        \"Toshkent\",\n",
        "])\n",
        "print(obj)"
      ],
      "execution_count": 4,
      "outputs": [
        {
          "output_type": "stream",
          "name": "stdout",
          "text": [
            "0                           Andijon\n",
            "1                            Buxoro\n",
            "2                          Farg'ona\n",
            "3                            Jizzax\n",
            "4                            Xorazm\n",
            "5                          Namangan\n",
            "6                            Navoiy\n",
            "7                       Qashqadaryo\n",
            "8     Qoraqalpog'iston Respublikasi\n",
            "9                         Samarqand\n",
            "10                         Sirdaryo\n",
            "11                      Surxondaryo\n",
            "12                         Toshkent\n",
            "dtype: object\n"
          ]
        }
      ]
    },
    {
      "cell_type": "code",
      "metadata": {
        "cellView": "form",
        "code_folding": [
          0
        ],
        "colab": {
          "base_uri": "https://localhost:8080/"
        },
        "id": "u0m-fPU43iPn",
        "jupyter": {
          "source_hidden": true
        },
        "tags": [],
        "outputId": "f117b8be-0d80-44ce-9d61-236d11147f82"
      },
      "source": [
        "#@title **To'g'ri javob**\n",
        "obj = pd.Series(\n",
        "    [\n",
        "        \"Andijon\",\n",
        "        \"Buxoro\",\n",
        "        \"Farg'ona\",\n",
        "        \"Jizzax\",\n",
        "        \"Xorazm\",\n",
        "        \"Namangan\",\n",
        "        \"Navoiy\",\n",
        "        \"Qashqadaryo\",\n",
        "        \"Qoraqalpog'iston Respublikasi\",\n",
        "        \"Samarqand\",\n",
        "        \"Sirdaryo\",\n",
        "        \"Surxondaryo\",\n",
        "        \"Toshkent\",\n",
        "    ]\n",
        ")\n",
        "print(obj)"
      ],
      "execution_count": 5,
      "outputs": [
        {
          "output_type": "stream",
          "name": "stdout",
          "text": [
            "0                           Andijon\n",
            "1                            Buxoro\n",
            "2                          Farg'ona\n",
            "3                            Jizzax\n",
            "4                            Xorazm\n",
            "5                          Namangan\n",
            "6                            Navoiy\n",
            "7                       Qashqadaryo\n",
            "8     Qoraqalpog'iston Respublikasi\n",
            "9                         Samarqand\n",
            "10                         Sirdaryo\n",
            "11                      Surxondaryo\n",
            "12                         Toshkent\n",
            "dtype: object\n"
          ]
        }
      ]
    },
    {
      "cell_type": "markdown",
      "metadata": {
        "id": "HNKNuN67pQzX"
      },
      "source": [
        "### **3-mashq.** Yuqorida yaratilgan Series obyektining barcha qiymaltarini chiqaring"
      ]
    },
    {
      "cell_type": "code",
      "metadata": {
        "id": "DLduyoXjqkSx",
        "colab": {
          "base_uri": "https://localhost:8080/"
        },
        "outputId": "12180ada-f2d0-4671-b313-a401592e5628"
      },
      "source": [
        "# Javobni shuyerga yozing\n",
        "np.array(obj)"
      ],
      "execution_count": 6,
      "outputs": [
        {
          "output_type": "execute_result",
          "data": {
            "text/plain": [
              "array(['Andijon', 'Buxoro', \"Farg'ona\", 'Jizzax', 'Xorazm', 'Namangan',\n",
              "       'Navoiy', 'Qashqadaryo', \"Qoraqalpog'iston Respublikasi\",\n",
              "       'Samarqand', 'Sirdaryo', 'Surxondaryo', 'Toshkent'], dtype=object)"
            ]
          },
          "metadata": {},
          "execution_count": 6
        }
      ]
    },
    {
      "cell_type": "code",
      "metadata": {
        "cellView": "form",
        "code_folding": [
          0
        ],
        "colab": {
          "base_uri": "https://localhost:8080/"
        },
        "id": "SDdwnLJ731EK",
        "jupyter": {
          "source_hidden": true
        },
        "tags": [],
        "outputId": "b26aea39-c7c6-41d4-aca0-e4b6fa05553f"
      },
      "source": [
        "# @title **To'g'ri javob**\n",
        "obj.values"
      ],
      "execution_count": 7,
      "outputs": [
        {
          "output_type": "execute_result",
          "data": {
            "text/plain": [
              "array(['Andijon', 'Buxoro', \"Farg'ona\", 'Jizzax', 'Xorazm', 'Namangan',\n",
              "       'Navoiy', 'Qashqadaryo', \"Qoraqalpog'iston Respublikasi\",\n",
              "       'Samarqand', 'Sirdaryo', 'Surxondaryo', 'Toshkent'], dtype=object)"
            ]
          },
          "metadata": {},
          "execution_count": 7
        }
      ]
    },
    {
      "cell_type": "markdown",
      "metadata": {
        "id": "dfiWArV2qvTr"
      },
      "source": [
        "### **4-mashq.** Yuqoridagi Series obyektining eng birinchi qiymatini chiqaring"
      ]
    },
    {
      "cell_type": "code",
      "metadata": {
        "id": "On9qxbkehV9e",
        "colab": {
          "base_uri": "https://localhost:8080/",
          "height": 35
        },
        "outputId": "953f6097-b67a-4dd4-d9bd-58f21d28f48a"
      },
      "source": [
        "# Javobni shuyerga yozing\n",
        "obj[0]"
      ],
      "execution_count": 8,
      "outputs": [
        {
          "output_type": "execute_result",
          "data": {
            "text/plain": [
              "'Andijon'"
            ],
            "application/vnd.google.colaboratory.intrinsic+json": {
              "type": "string"
            }
          },
          "metadata": {},
          "execution_count": 8
        }
      ]
    },
    {
      "cell_type": "code",
      "metadata": {
        "cellView": "form",
        "code_folding": [
          0
        ],
        "colab": {
          "base_uri": "https://localhost:8080/",
          "height": 35
        },
        "id": "_Dn-oksDv5zL",
        "jupyter": {
          "source_hidden": true
        },
        "tags": [],
        "outputId": "9ca4a619-43a2-46b7-b0e6-f43f29fc2cc4"
      },
      "source": [
        "# @title **To'g'ri javob**\n",
        "obj[0]"
      ],
      "execution_count": 9,
      "outputs": [
        {
          "output_type": "execute_result",
          "data": {
            "text/plain": [
              "'Andijon'"
            ],
            "application/vnd.google.colaboratory.intrinsic+json": {
              "type": "string"
            }
          },
          "metadata": {},
          "execution_count": 9
        }
      ]
    },
    {
      "cell_type": "markdown",
      "metadata": {
        "id": "ARL6cU7KhPUO"
      },
      "source": [
        "### **5-mashq.** Yuqoridagi Series obyektining eng oxirgi qiymatini chiqaring"
      ]
    },
    {
      "cell_type": "code",
      "metadata": {
        "id": "nIDEksXShLO5",
        "colab": {
          "base_uri": "https://localhost:8080/",
          "height": 35
        },
        "outputId": "7cdaae7a-b5fd-40fd-9cf9-d5efabcba41a"
      },
      "source": [
        "# Javobni shuyerga yozing\n",
        "obj.iloc[-1]"
      ],
      "execution_count": 11,
      "outputs": [
        {
          "output_type": "execute_result",
          "data": {
            "text/plain": [
              "'Toshkent'"
            ],
            "application/vnd.google.colaboratory.intrinsic+json": {
              "type": "string"
            }
          },
          "metadata": {},
          "execution_count": 11
        }
      ]
    },
    {
      "cell_type": "code",
      "metadata": {
        "cellView": "form",
        "code_folding": [
          0
        ],
        "colab": {
          "base_uri": "https://localhost:8080/",
          "height": 35
        },
        "id": "wnan3_t1hYkG",
        "jupyter": {
          "source_hidden": true
        },
        "tags": [],
        "outputId": "b0c02f06-6978-4e07-ff76-31aec5964d48"
      },
      "source": [
        "# @title **To'g'ri javob**\n",
        "obj[12]"
      ],
      "execution_count": null,
      "outputs": [
        {
          "data": {
            "text/plain": [
              "'Toshkent'"
            ]
          },
          "execution_count": 12,
          "metadata": {},
          "output_type": "execute_result"
        }
      ]
    },
    {
      "cell_type": "markdown",
      "metadata": {
        "id": "peT8QIPdh2SM"
      },
      "source": [
        "### **6-mashq.** Yuqoridagi Series obyekti uzunligini chiqaring"
      ]
    },
    {
      "cell_type": "code",
      "metadata": {
        "id": "g72orrMvheN4",
        "colab": {
          "base_uri": "https://localhost:8080/"
        },
        "outputId": "4cbbb9f9-8bb9-48a7-b577-f9e2b3938bdd"
      },
      "source": [
        "# Javobni shuyerga yozing\n",
        "len(obj)"
      ],
      "execution_count": 12,
      "outputs": [
        {
          "output_type": "execute_result",
          "data": {
            "text/plain": [
              "13"
            ]
          },
          "metadata": {},
          "execution_count": 12
        }
      ]
    },
    {
      "cell_type": "code",
      "metadata": {
        "cellView": "form",
        "code_folding": [
          0
        ],
        "colab": {
          "base_uri": "https://localhost:8080/"
        },
        "id": "ICENpA_JiFgl",
        "jupyter": {
          "source_hidden": true
        },
        "tags": [],
        "outputId": "feb2f42b-bc77-4ae3-b771-46c6d26bec71"
      },
      "source": [
        "# @title **To'g'ri javob**\n",
        "obj.size"
      ],
      "execution_count": 13,
      "outputs": [
        {
          "output_type": "execute_result",
          "data": {
            "text/plain": [
              "13"
            ]
          },
          "metadata": {},
          "execution_count": 13
        }
      ]
    },
    {
      "cell_type": "markdown",
      "metadata": {
        "id": "ZbXRPkW5iNDw"
      },
      "source": [
        "### **7-mashq.** Yuqoridagi Series obyektining o'rtasidan 3 ta qiymat chiqaring"
      ]
    },
    {
      "cell_type": "code",
      "metadata": {
        "id": "7DZChnAQiczM",
        "colab": {
          "base_uri": "https://localhost:8080/"
        },
        "outputId": "bc2f0fd7-6c02-4bc4-b111-f74c1327b8bc"
      },
      "source": [
        "# Javobni shuyerga yozing\n",
        "obj[5:8]"
      ],
      "execution_count": 20,
      "outputs": [
        {
          "output_type": "execute_result",
          "data": {
            "text/plain": [
              "5       Namangan\n",
              "6         Navoiy\n",
              "7    Qashqadaryo\n",
              "dtype: object"
            ]
          },
          "metadata": {},
          "execution_count": 20
        }
      ]
    },
    {
      "cell_type": "code",
      "metadata": {
        "cellView": "form",
        "code_folding": [
          0
        ],
        "colab": {
          "base_uri": "https://localhost:8080/"
        },
        "id": "EVtmpTXhieqB",
        "jupyter": {
          "source_hidden": true
        },
        "tags": [],
        "outputId": "209fc72e-78f7-4a91-aede-6ce7788c6050"
      },
      "source": [
        "# @title **To'g'ri javob**\n",
        "\n",
        "obj[[5, 6, 7]]"
      ],
      "execution_count": 21,
      "outputs": [
        {
          "output_type": "execute_result",
          "data": {
            "text/plain": [
              "5       Namangan\n",
              "6         Navoiy\n",
              "7    Qashqadaryo\n",
              "dtype: object"
            ]
          },
          "metadata": {},
          "execution_count": 21
        }
      ]
    },
    {
      "cell_type": "markdown",
      "metadata": {
        "id": "1pjPsrTFjG4v"
      },
      "source": [
        "### **8-mashq.** Quyidagi Series obyektini yarating.\n",
        "**Ahamiyat bering. `Series` obyekti indeksi sifatida viloyatlar nomi ishlatilgan**"
      ]
    },
    {
      "cell_type": "code",
      "metadata": {
        "cellView": "form",
        "code_folding": [
          0
        ],
        "colab": {
          "base_uri": "https://localhost:8080/"
        },
        "id": "wXmpomZCiv5f",
        "jupyter": {
          "source_hidden": true
        },
        "tags": [],
        "outputId": "7e36c7d2-eaf7-42fd-9e37-b267f346b685"
      },
      "source": [
        "# @title\n",
        "ind = obj.values\n",
        "aholi = [\n",
        "    1899000,\n",
        "    1384700,\n",
        "    2597000,\n",
        "    910500,\n",
        "    1200000,\n",
        "    1862000,\n",
        "    767500,\n",
        "    2029000,\n",
        "    1200000,\n",
        "    2322000,\n",
        "    648100,\n",
        "    1676000,\n",
        "    4450000,\n",
        "]\n",
        "obj2 = pd.Series(aholi, index=ind)\n",
        "print(obj2)"
      ],
      "execution_count": null,
      "outputs": [
        {
          "name": "stdout",
          "output_type": "stream",
          "text": [
            "Andijon                          1899000\n",
            "Buxoro                           1384700\n",
            "Farg'ona                         2597000\n",
            "Jizzax                            910500\n",
            "Xorazm                           1200000\n",
            "Namangan                         1862000\n",
            "Navoiy                            767500\n",
            "Qashqadaryo                      2029000\n",
            "Qoraqalpog'iston Respublikasi    1200000\n",
            "Samarqand                        2322000\n",
            "Sirdaryo                          648100\n",
            "Surxondaryo                      1676000\n",
            "Toshkent                         4450000\n",
            "dtype: int64\n"
          ]
        }
      ]
    },
    {
      "cell_type": "code",
      "metadata": {
        "id": "ehlAxUD6jEjx",
        "colab": {
          "base_uri": "https://localhost:8080/"
        },
        "outputId": "6dce170c-4c15-49e9-9909-a0c9cdd80264"
      },
      "source": [
        "# Javobni shuyerga yozing\n",
        "obj_2 = pd.Series([\n",
        "    1899000,\n",
        "    1384700,\n",
        "    2597000,\n",
        "    910500,\n",
        "    1200000,\n",
        "    1862000,\n",
        "    767500,\n",
        "    2029000,\n",
        "    1200000,\n",
        "    2322000,\n",
        "    648100,\n",
        "    1676000,\n",
        "    4450000\n",
        "], index=[\n",
        "       \"Andijon\",\n",
        "        \"Buxoro\",\n",
        "        \"Farg'ona\",\n",
        "        \"Jizzax\",\n",
        "        \"Xorazm\",\n",
        "        \"Namangan\",\n",
        "        \"Navoiy\",\n",
        "        \"Qashqadaryo\",\n",
        "        \"Qoraqalpog'iston Respublikasi\",\n",
        "        \"Samarqand\",\n",
        "        \"Sirdaryo\",\n",
        "        \"Surxondaryo\",\n",
        "        \"Toshkent\",\n",
        "])\n",
        "print(obj_2)"
      ],
      "execution_count": 103,
      "outputs": [
        {
          "output_type": "stream",
          "name": "stdout",
          "text": [
            "Andijon                          1899000\n",
            "Buxoro                           1384700\n",
            "Farg'ona                         2597000\n",
            "Jizzax                            910500\n",
            "Xorazm                           1200000\n",
            "Namangan                         1862000\n",
            "Navoiy                            767500\n",
            "Qashqadaryo                      2029000\n",
            "Qoraqalpog'iston Respublikasi    1200000\n",
            "Samarqand                        2322000\n",
            "Sirdaryo                          648100\n",
            "Surxondaryo                      1676000\n",
            "Toshkent                         4450000\n",
            "dtype: int64\n"
          ]
        }
      ]
    },
    {
      "cell_type": "markdown",
      "metadata": {
        "id": "_xG9zq_KkTXn"
      },
      "source": [
        "### **9-mashq.** Yuqoridagi `Series` obyektidan Jizzax, Buxoro va Namangan viloyatlarining aholisini chiqaring"
      ]
    },
    {
      "cell_type": "code",
      "metadata": {
        "id": "71ZC0ZKoki_N",
        "colab": {
          "base_uri": "https://localhost:8080/"
        },
        "outputId": "c24daecc-7879-44ed-bfee-c389863f7157"
      },
      "source": [
        "# Javobni shuyerga yozing\n",
        "obj_2[['Jizzax','Buxoro','Namangan']]"
      ],
      "execution_count": 34,
      "outputs": [
        {
          "output_type": "execute_result",
          "data": {
            "text/plain": [
              "Jizzax       910500\n",
              "Buxoro      1384700\n",
              "Namangan    1862000\n",
              "dtype: int64"
            ]
          },
          "metadata": {},
          "execution_count": 34
        }
      ]
    },
    {
      "cell_type": "code",
      "metadata": {
        "code_folding": [
          0
        ],
        "colab": {
          "base_uri": "https://localhost:8080/"
        },
        "id": "Nd-jwIiZkkxW",
        "jupyter": {
          "source_hidden": true
        },
        "tags": [],
        "outputId": "08e92dff-0d51-406e-e2c3-cc3d3aa8e8bd"
      },
      "source": [
        "# @title **To'g'ri javob**\n",
        "obj_2[[\"Jizzax\", \"Buxoro\", \"Namangan\"]]"
      ],
      "execution_count": 37,
      "outputs": [
        {
          "output_type": "execute_result",
          "data": {
            "text/plain": [
              "Jizzax       910500\n",
              "Buxoro      1384700\n",
              "Namangan    1862000\n",
              "dtype: int64"
            ]
          },
          "metadata": {},
          "execution_count": 37
        }
      ]
    },
    {
      "cell_type": "markdown",
      "metadata": {
        "id": "d2ci3QWEkuEN"
      },
      "source": [
        "### **10-mashq.** Yuqoridagi `Series` obyektidan aholi soni 1 milliondan kam va ko'p bo'lgan viloyatlarni alohida chiqaring"
      ]
    },
    {
      "cell_type": "code",
      "metadata": {
        "id": "ENuCHKPukr6X",
        "colab": {
          "base_uri": "https://localhost:8080/"
        },
        "outputId": "06d7ac10-b4a8-4592-918a-92fd70eb66a4"
      },
      "source": [
        "# Javobni shuyerga yozing\n",
        "print(\"Aholisi 1 mln ko'p viloyatlar\")\n",
        "print([obj_2[obj_2>1000000]])"
      ],
      "execution_count": 51,
      "outputs": [
        {
          "output_type": "stream",
          "name": "stdout",
          "text": [
            "Aholisi 1 mln ko'p viloyatlar\n",
            "[Andijon        1899000\n",
            "Buxoro         1384700\n",
            "Farg'ona       2597000\n",
            "Xorazm         1200000\n",
            "Namangan       1862000\n",
            "Qashqadaryo    2029000\n",
            "Samarqand      2322000\n",
            "Surxondaryo    1676000\n",
            "Toshkent       4450000\n",
            "dtype: int64]\n"
          ]
        }
      ]
    },
    {
      "cell_type": "code",
      "source": [
        "print(\"Aholisi 1 mln kam bo'lgan viloyatlar\")\n",
        "print(obj_2[obj_2<1000000])"
      ],
      "metadata": {
        "colab": {
          "base_uri": "https://localhost:8080/"
        },
        "id": "oVtBh2ksx6i5",
        "outputId": "0ba3a6c4-d89a-4ad8-a160-90fbdab256bb"
      },
      "execution_count": 53,
      "outputs": [
        {
          "output_type": "stream",
          "name": "stdout",
          "text": [
            "Aholisi 1 mln kam bo'lgan viloyatlar\n",
            "Jizzax                           910500\n",
            "Navoiy                           767500\n",
            "Qoraqalpog'iston Respublikasi    120000\n",
            "Sirdaryo                         648100\n",
            "dtype: int64\n"
          ]
        }
      ]
    },
    {
      "cell_type": "code",
      "metadata": {
        "cellView": "form",
        "code_folding": [
          0
        ],
        "colab": {
          "base_uri": "https://localhost:8080/"
        },
        "id": "C-IZM30Fk_jM",
        "jupyter": {
          "source_hidden": true
        },
        "tags": [],
        "outputId": "19b1f26d-4861-458d-e895-5c5840eb9f46"
      },
      "source": [
        "# @title **To'g'ri javob**\n",
        "print(\"Aholisi 1 milliondan ko'p viloyatlar\")\n",
        "print(obj2[obj2 > 1_000_000])\n",
        "# Pythonda katta sonlarni yozishda 0 orasini _ bilan ajratish mumkin"
      ],
      "execution_count": null,
      "outputs": [
        {
          "name": "stdout",
          "output_type": "stream",
          "text": [
            "Aholisi 1 milliondan ko'p viloyatlar\n",
            "Andijon                          1899000\n",
            "Buxoro                           1384700\n",
            "Farg'ona                         2597000\n",
            "Xorazm                           1200000\n",
            "Namangan                         1862000\n",
            "Qashqadaryo                      2029000\n",
            "Qoraqalpog'iston Respublikasi    1200000\n",
            "Samarqand                        2322000\n",
            "Surxondaryo                      1676000\n",
            "Toshkent                         4450000\n",
            "dtype: int64\n"
          ]
        }
      ]
    },
    {
      "cell_type": "code",
      "metadata": {
        "cellView": "form",
        "code_folding": [
          0
        ],
        "colab": {
          "base_uri": "https://localhost:8080/"
        },
        "id": "lUevJ5D7lK0m",
        "jupyter": {
          "source_hidden": true
        },
        "tags": [],
        "outputId": "32e16bbe-1512-4f72-cdcd-b73930a0dbe3"
      },
      "source": [
        "# @title\n",
        "print(\"Aholisi 1 milliondan kam viloyatlar\")\n",
        "print(obj2[obj2 < 1_000_000])"
      ],
      "execution_count": null,
      "outputs": [
        {
          "name": "stdout",
          "output_type": "stream",
          "text": [
            "Aholisi 1 milliondan kam viloyatlar\n",
            "Jizzax      910500\n",
            "Navoiy      767500\n",
            "Sirdaryo    648100\n",
            "dtype: int64\n"
          ]
        }
      ]
    },
    {
      "cell_type": "markdown",
      "metadata": {
        "id": "RX_PQaBdlmmO"
      },
      "source": [
        "### **11-mashq.** Aholisi 1 milliondan ko'p davlatlar orasida Navoiy viloyati bor/yo'qligini tekshiring"
      ]
    },
    {
      "cell_type": "code",
      "metadata": {
        "id": "gJqjvEcRlcme",
        "colab": {
          "base_uri": "https://localhost:8080/"
        },
        "outputId": "146385ef-653b-4f3e-8b93-ece7c0b4b22b"
      },
      "source": [
        "# Javobni shuyerga yozing\n",
        "obj_2['Navoiy'] > 1000000"
      ],
      "execution_count": 60,
      "outputs": [
        {
          "output_type": "execute_result",
          "data": {
            "text/plain": [
              "False"
            ]
          },
          "metadata": {},
          "execution_count": 60
        }
      ]
    },
    {
      "cell_type": "code",
      "metadata": {
        "code_folding": [
          0
        ],
        "colab": {
          "base_uri": "https://localhost:8080/"
        },
        "id": "5bzl-eT-l3ft",
        "jupyter": {
          "source_hidden": true
        },
        "tags": [],
        "outputId": "8ede431f-0a36-428b-c0ae-e21dd510f10c"
      },
      "source": [
        "# @title **To'g'ri javob**\n",
        "\"Navoiy\" in obj_2[obj_2 > 1_000_000]"
      ],
      "execution_count": 62,
      "outputs": [
        {
          "output_type": "execute_result",
          "data": {
            "text/plain": [
              "False"
            ]
          },
          "metadata": {},
          "execution_count": 62
        }
      ]
    },
    {
      "cell_type": "markdown",
      "metadata": {
        "id": "5m-FKutVmLpA"
      },
      "source": [
        "### **12-mashq.** Quyidagi lug'atda viloyatlar va ularning maydonlari berilgan. Lug'atdan yangi `Series` obyektini yarating va unga \"Hududlar hajmi\" deb nom bering"
      ]
    },
    {
      "cell_type": "code",
      "metadata": {
        "code_folding": [],
        "id": "sr3vN7vFl_GZ"
      },
      "source": [
        "dict = {\n",
        "    \"Andijon\": 4200,\n",
        "    \"Buxoro\": 39400,\n",
        "    \"Farg'ona\": 6800,\n",
        "    \"Jizzax\": 20500,\n",
        "    \"Xorazm\": 6300,\n",
        "    \"Namangan\": 7900,\n",
        "    \"Navoiy\": 110800,\n",
        "    \"Qashqadaryo\": 28400,\n",
        "    \"Qoraqalpog'iston Respublikasi\": 160000,\n",
        "    \"Samarqand\": 16400,\n",
        "    \"Sirdaryo\": 5100,\n",
        "    \"Surxondaryo\": 20800,\n",
        "    \"Toshkent\": 15300,\n",
        "}"
      ],
      "execution_count": null,
      "outputs": []
    },
    {
      "cell_type": "code",
      "metadata": {
        "code_folding": [],
        "id": "OmkdZo62MaUD",
        "colab": {
          "base_uri": "https://localhost:8080/"
        },
        "outputId": "0aecc5ce-a27d-483b-cec2-35b9d4e2b4e9"
      },
      "source": [
        "# Javobni shuyerga yozing\n",
        "hududlar_hajmi = pd.Series({\n",
        "       \"Andijon\": 4200,\n",
        "    \"Buxoro\": 39400,\n",
        "    \"Farg'ona\": 6800,\n",
        "    \"Jizzax\": 20500,\n",
        "    \"Xorazm\": 6300,\n",
        "    \"Namangan\": 7900,\n",
        "    \"Navoiy\": 110800,\n",
        "    \"Qashqadaryo\": 28400,\n",
        "    \"Qoraqalpog'iston Respublikasi\": 160000,\n",
        "    \"Samarqand\": 16400,\n",
        "    \"Sirdaryo\": 5100,\n",
        "    \"Surxondaryo\": 20800,\n",
        "    \"Toshkent\": 15300,\n",
        "})\n",
        "hududlar_hajmi"
      ],
      "execution_count": 64,
      "outputs": [
        {
          "output_type": "execute_result",
          "data": {
            "text/plain": [
              "Andijon                            4200\n",
              "Buxoro                            39400\n",
              "Farg'ona                           6800\n",
              "Jizzax                            20500\n",
              "Xorazm                             6300\n",
              "Namangan                           7900\n",
              "Navoiy                           110800\n",
              "Qashqadaryo                       28400\n",
              "Qoraqalpog'iston Respublikasi    160000\n",
              "Samarqand                         16400\n",
              "Sirdaryo                           5100\n",
              "Surxondaryo                       20800\n",
              "Toshkent                          15300\n",
              "dtype: int64"
            ]
          },
          "metadata": {},
          "execution_count": 64
        }
      ]
    },
    {
      "cell_type": "code",
      "metadata": {
        "code_folding": [
          0
        ],
        "jupyter": {
          "source_hidden": true
        },
        "tags": [],
        "cellView": "form",
        "id": "kIPqYAlxMaUD",
        "outputId": "5d02237b-86fb-45e6-cca2-3a658dfb53a2"
      },
      "source": [
        "#@title To'g'ri javob\n",
        "obj3 = pd.Series(dict)\n",
        "obj3.name = \"Hudular hajmi\"\n",
        "print(obj3)"
      ],
      "execution_count": null,
      "outputs": [
        {
          "name": "stdout",
          "output_type": "stream",
          "text": [
            "Andijon                            4200\n",
            "Buxoro                            39400\n",
            "Farg'ona                           6800\n",
            "Jizzax                            20500\n",
            "Xorazm                             6300\n",
            "Namangan                           7900\n",
            "Navoiy                           110800\n",
            "Qashqadaryo                       28400\n",
            "Qoraqalpog'iston Respublikasi    160000\n",
            "Samarqand                         16400\n",
            "Sirdaryo                           5100\n",
            "Surxondaryo                       20800\n",
            "Toshkent                          15300\n",
            "Name: Hudular hajmi, dtype: int64\n"
          ]
        }
      ]
    },
    {
      "cell_type": "markdown",
      "metadata": {
        "id": "1WlWLIfvMaUD"
      },
      "source": [
        "### **13-mashq.** Yuqoridagi `Series` obyektidan hududi eng katta va eng kichik elementlarni chiqaring"
      ]
    },
    {
      "cell_type": "code",
      "metadata": {
        "id": "cfQUklJ3MaUD",
        "colab": {
          "base_uri": "https://localhost:8080/"
        },
        "outputId": "2d1485f8-2773-49c4-bc9c-7a12c721c71b"
      },
      "source": [
        "# Javobni shuyerga yozing\n",
        "max_hudud = hududlar_hajmi.idxmax()\n",
        "min_hudud = hududlar_hajmi.idxmin()\n",
        "print(f\"Eng katta hudud: {max_hudud} - {max(hududlar_hajmi)}\")\n",
        "print(f\"Eng kichik hudud: {min_hudud} - {min(hududlar_hajmi)}\")"
      ],
      "execution_count": 78,
      "outputs": [
        {
          "output_type": "stream",
          "name": "stdout",
          "text": [
            "Eng katta hudud: Qoraqalpog'iston Respublikasi - 160000\n",
            "Eng kichik hudud: Andijon - 4200\n"
          ]
        }
      ]
    },
    {
      "cell_type": "code",
      "metadata": {
        "code_folding": [
          0
        ],
        "jupyter": {
          "source_hidden": true
        },
        "tags": [],
        "cellView": "form",
        "id": "iwVCGmISMaUD",
        "outputId": "c2220771-5661-4f49-aa5a-331e71e0d9af"
      },
      "source": [
        "#@title To'g'ri javob\n",
        "print(f\"Eng katta hudud: {obj3.idxmax()}\")\n",
        "print(f\"Eng kichik hudud: {obj3.idxmin()}\")"
      ],
      "execution_count": null,
      "outputs": [
        {
          "name": "stdout",
          "output_type": "stream",
          "text": [
            "Eng katta hudud: Qoraqalpog'iston Respublikasi\n",
            "Eng kichik hudud: Andijon\n"
          ]
        }
      ]
    },
    {
      "cell_type": "markdown",
      "metadata": {
        "id": "hyCJqv3gMaUE"
      },
      "source": [
        "### **14-mashq.** Yuqoridagi eng katta va eng kichik hududlar aholisi sonini chiqaring"
      ]
    },
    {
      "cell_type": "code",
      "metadata": {
        "id": "wu26U94yMaUE",
        "colab": {
          "base_uri": "https://localhost:8080/"
        },
        "outputId": "da7c882d-032c-44ea-f33f-ca243f3e8ff7"
      },
      "source": [
        "# Javobni shuyerga yozing\n",
        "print(f\"{max_hudud} aholisi {obj_2[hududlar_hajmi.idxmax()]}\")\n",
        "print(f\"{min_hudud} aholisi {obj_2[hududlar_hajmi.idxmin()]}\")"
      ],
      "execution_count": 83,
      "outputs": [
        {
          "output_type": "stream",
          "name": "stdout",
          "text": [
            "Qoraqalpog'iston Respublikasi aholisi 120000\n",
            "Andijon aholisi 1899000\n"
          ]
        }
      ]
    },
    {
      "cell_type": "code",
      "metadata": {
        "code_folding": [
          0
        ],
        "jupyter": {
          "source_hidden": true
        },
        "tags": [],
        "cellView": "form",
        "id": "bu_B5iFwMaUE",
        "outputId": "af5613de-dd5f-47e3-e1ff-9f3ff0327720"
      },
      "source": [
        "#@title To'g'ri javob\n",
        "print(f\"{obj3.idxmax()} aholisi {obj2[obj3.idxmax()]}\")\n",
        "print(f\"{obj3.idxmin()} aholisi {obj2[obj3.idxmin()]}\")"
      ],
      "execution_count": null,
      "outputs": [
        {
          "name": "stdout",
          "output_type": "stream",
          "text": [
            "Qoraqalpog'iston Respublikasi aholisi 1200000\n",
            "Andijon aholisi 1899000\n"
          ]
        }
      ]
    },
    {
      "cell_type": "markdown",
      "metadata": {
        "id": "C6M1A-wZMaUE"
      },
      "source": [
        "### **15-mashq**. Yuqoridagi hudulardan O'zbekiston Respublikasi hududini hisoblang"
      ]
    },
    {
      "cell_type": "code",
      "metadata": {
        "id": "lBjvOsu_MaUE",
        "colab": {
          "base_uri": "https://localhost:8080/"
        },
        "outputId": "f5b9bf09-9abb-4d89-f832-3ed7cad5afd1"
      },
      "source": [
        "# Javobni shuyerga yozing\n",
        "uzb_hududi = sum(hududlar_hajmi)\n",
        "print(f\"O'zbekiston Respublikasining umumiy maydoni {uzb_hududi} kv.km ga teng\")"
      ],
      "execution_count": 88,
      "outputs": [
        {
          "output_type": "stream",
          "name": "stdout",
          "text": [
            "O'zbekiston Respublikasining umumiy maydoni 441900 kv.km ga teng\n"
          ]
        }
      ]
    },
    {
      "cell_type": "code",
      "metadata": {
        "code_folding": [
          0
        ],
        "jupyter": {
          "source_hidden": true
        },
        "tags": [],
        "cellView": "form",
        "id": "Fq9J3uC-MaUE",
        "outputId": "b517fc4f-af64-4203-f80f-8b289f610655"
      },
      "source": [
        "#@title To'g'ri javob\n",
        "sum(obj3)"
      ],
      "execution_count": null,
      "outputs": [
        {
          "data": {
            "text/plain": [
              "441900"
            ]
          },
          "execution_count": 54,
          "metadata": {},
          "output_type": "execute_result"
        }
      ]
    },
    {
      "cell_type": "markdown",
      "metadata": {
        "id": "VG1qyIWfMaUF"
      },
      "source": [
        "### **16-mashq.** Aholisi eng ko'p va eng kam hududlarning hajmini va aholi sonini chiqaring"
      ]
    },
    {
      "cell_type": "code",
      "metadata": {
        "id": "wpqDW7mEMaUF",
        "colab": {
          "base_uri": "https://localhost:8080/"
        },
        "outputId": "aacf478b-88ef-485b-a074-7faa5896df9b"
      },
      "source": [
        "# Javobni shuyerga yozing\n",
        "print(f\"{obj_2.idxmax()} hududi {hududlar_hajmi[obj_2.idxmax()]} kv.km, aholisi: {obj_2[obj_2.idxmax()]} \")\n",
        "print(f\"{obj_2.idxmin()} hududi {hududlar_hajmi[obj_2.idxmin()]} kv.km, aholisi: {obj_2[obj_2.idxmin()]} \")"
      ],
      "execution_count": 105,
      "outputs": [
        {
          "output_type": "stream",
          "name": "stdout",
          "text": [
            "Toshkent hududi 15300 kv.km, aholisi: 4450000 \n",
            "Sirdaryo hududi 5100 kv.km, aholisi: 648100 \n"
          ]
        }
      ]
    },
    {
      "cell_type": "code",
      "metadata": {
        "code_folding": [
          0
        ],
        "jupyter": {
          "source_hidden": true
        },
        "tags": [],
        "cellView": "form",
        "id": "mlK_8JEfMaUF",
        "outputId": "8ef5d64d-601a-48ca-95a9-30c808507d6d"
      },
      "source": [
        "#@title To'g'ri javob\n",
        "print(f\"{obj2.idxmax()} hududi {obj3[obj2.idxmax()]}kv.km, aholisi {obj2[obj2.idxmax()]}\")\n",
        "print(f\"{obj2.idxmin()} hududi {obj3[obj2.idxmin()]}kv.km, aholisi {obj2[obj2.idxmin()]}\")"
      ],
      "execution_count": null,
      "outputs": [
        {
          "name": "stdout",
          "output_type": "stream",
          "text": [
            "Toshkent hududi 15300kv.km, aholisi 4450000\n",
            "Sirdaryo hududi 5100kv.km, aholisi 648100\n"
          ]
        }
      ]
    },
    {
      "cell_type": "markdown",
      "metadata": {
        "id": "DVnpsFuBMaUF"
      },
      "source": [
        "### **17-mashq.** Yuqoridagi ikki obyektdan foydalangan holda O'zbekiston respublikasi tarkibidagi hududlarni avval aholi soni bo'yicha, keyin esa hajmi bo'yicha tartiblab chiqaring"
      ]
    },
    {
      "cell_type": "code",
      "metadata": {
        "id": "ritVgX4bMaUF",
        "colab": {
          "base_uri": "https://localhost:8080/"
        },
        "outputId": "1594e981-97ae-42e2-a2cd-6c7aa7a80fde"
      },
      "source": [
        "# Javobni shuyerga yozing\n",
        "print(\"Hajmi bo'yicha tartiblash\")\n",
        "hududlar_hajmi.sort_values()"
      ],
      "execution_count": 106,
      "outputs": [
        {
          "output_type": "stream",
          "name": "stdout",
          "text": [
            "Hajmi bo'yicha tartiblash\n"
          ]
        },
        {
          "output_type": "execute_result",
          "data": {
            "text/plain": [
              "Andijon                            4200\n",
              "Sirdaryo                           5100\n",
              "Xorazm                             6300\n",
              "Farg'ona                           6800\n",
              "Namangan                           7900\n",
              "Toshkent                          15300\n",
              "Samarqand                         16400\n",
              "Jizzax                            20500\n",
              "Surxondaryo                       20800\n",
              "Qashqadaryo                       28400\n",
              "Buxoro                            39400\n",
              "Navoiy                           110800\n",
              "Qoraqalpog'iston Respublikasi    160000\n",
              "dtype: int64"
            ]
          },
          "metadata": {},
          "execution_count": 106
        }
      ]
    },
    {
      "cell_type": "code",
      "source": [
        "print(\"Aholi soni bo'yicha tartiblash\")\n",
        "obj_2.sort_values()"
      ],
      "metadata": {
        "colab": {
          "base_uri": "https://localhost:8080/"
        },
        "id": "aledjJm08WV4",
        "outputId": "c646e286-cf10-4b4c-bbae-ddef1d097e36"
      },
      "execution_count": 108,
      "outputs": [
        {
          "output_type": "stream",
          "name": "stdout",
          "text": [
            "Aholi soni bo'yicha tartiblash\n"
          ]
        },
        {
          "output_type": "execute_result",
          "data": {
            "text/plain": [
              "Sirdaryo                          648100\n",
              "Navoiy                            767500\n",
              "Jizzax                            910500\n",
              "Xorazm                           1200000\n",
              "Qoraqalpog'iston Respublikasi    1200000\n",
              "Buxoro                           1384700\n",
              "Surxondaryo                      1676000\n",
              "Namangan                         1862000\n",
              "Andijon                          1899000\n",
              "Qashqadaryo                      2029000\n",
              "Samarqand                        2322000\n",
              "Farg'ona                         2597000\n",
              "Toshkent                         4450000\n",
              "dtype: int64"
            ]
          },
          "metadata": {},
          "execution_count": 108
        }
      ]
    },
    {
      "cell_type": "code",
      "metadata": {
        "code_folding": [
          0
        ],
        "jupyter": {
          "source_hidden": true
        },
        "tags": [],
        "cellView": "form",
        "id": "uzGYBpU-MaUF",
        "outputId": "1e991202-691a-4201-8f6b-4373c78dfc89"
      },
      "source": [
        "#@title To'g'ri javob\n",
        "print(\"Hududlar hajmi bo'yicha tartiblash\")\n",
        "obj3.sort_values()"
      ],
      "execution_count": null,
      "outputs": [
        {
          "name": "stdout",
          "output_type": "stream",
          "text": [
            "Hududlar hajmi bo'yicha tartiblash\n"
          ]
        },
        {
          "data": {
            "text/plain": [
              "Andijon                            4200\n",
              "Sirdaryo                           5100\n",
              "Xorazm                             6300\n",
              "Farg'ona                           6800\n",
              "Namangan                           7900\n",
              "Toshkent                          15300\n",
              "Samarqand                         16400\n",
              "Jizzax                            20500\n",
              "Surxondaryo                       20800\n",
              "Qashqadaryo                       28400\n",
              "Buxoro                            39400\n",
              "Navoiy                           110800\n",
              "Qoraqalpog'iston Respublikasi    160000\n",
              "Name: Hudular hajmi, dtype: int64"
            ]
          },
          "execution_count": 61,
          "metadata": {},
          "output_type": "execute_result"
        }
      ]
    },
    {
      "cell_type": "code",
      "metadata": {
        "code_folding": [
          0
        ],
        "jupyter": {
          "source_hidden": true
        },
        "tags": [],
        "cellView": "form",
        "id": "RPI5Y5ZaMaUF",
        "outputId": "8e82af10-7242-4875-a85b-a8e8bcd6b69a"
      },
      "source": [
        "#@title To'g'ri javob\n",
        "print(\"Aholi soni bo'yicha tartiblash\")\n",
        "obj2.sort_values()"
      ],
      "execution_count": null,
      "outputs": [
        {
          "name": "stdout",
          "output_type": "stream",
          "text": [
            "Aholi soni bo'yicha tartiblash\n"
          ]
        },
        {
          "data": {
            "text/plain": [
              "Sirdaryo                          648100\n",
              "Navoiy                            767500\n",
              "Jizzax                            910500\n",
              "Xorazm                           1200000\n",
              "Qoraqalpog'iston Respublikasi    1200000\n",
              "Buxoro                           1384700\n",
              "Surxondaryo                      1676000\n",
              "Namangan                         1862000\n",
              "Andijon                          1899000\n",
              "Qashqadaryo                      2029000\n",
              "Samarqand                        2322000\n",
              "Farg'ona                         2597000\n",
              "Toshkent                         4450000\n",
              "dtype: int64"
            ]
          },
          "execution_count": 60,
          "metadata": {},
          "output_type": "execute_result"
        }
      ]
    },
    {
      "cell_type": "code",
      "metadata": {
        "id": "YgESVszuMaUG"
      },
      "source": [],
      "execution_count": null,
      "outputs": []
    }
  ]
}