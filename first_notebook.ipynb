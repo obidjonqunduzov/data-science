{
  "nbformat": 4,
  "nbformat_minor": 0,
  "metadata": {
    "colab": {
      "provenance": [],
      "authorship_tag": "ABX9TyOk1OCpuQNCvi0YdjV2Jikx",
      "include_colab_link": true
    },
    "kernelspec": {
      "name": "python3",
      "display_name": "Python 3"
    },
    "language_info": {
      "name": "python"
    }
  },
  "cells": [
    {
      "cell_type": "markdown",
      "metadata": {
        "id": "view-in-github",
        "colab_type": "text"
      },
      "source": [
        "<a href=\"https://colab.research.google.com/github/obidjonqunduzov/data-science/blob/main/first_notebook.ipynb\" target=\"_parent\"><img src=\"https://colab.research.google.com/assets/colab-badge.svg\" alt=\"Open In Colab\"/></a>"
      ]
    },
    {
      "cell_type": "code",
      "execution_count": 1,
      "metadata": {
        "colab": {
          "base_uri": "https://localhost:8080/"
        },
        "id": "q9pkZoj0JpAa",
        "outputId": "3d857a0f-3b8c-47c0-d9c6-507c6482899d"
      },
      "outputs": [
        {
          "output_type": "stream",
          "name": "stdout",
          "text": [
            "Hello world\n"
          ]
        }
      ],
      "source": [
        "print(\"Hello world\")"
      ]
    },
    {
      "cell_type": "code",
      "source": [
        "user = input(\"Ismingizni kiriting: \")\n",
        "if user == 'obidjon':\n",
        "  print(f\"Assalomu alaykum {user.title()} Google colabga xush kilebsiz!\")\n",
        "else:\n",
        "  print(f\"Uzur {user.title()} biz Obidjonni kutayapmiz!\")"
      ],
      "metadata": {
        "colab": {
          "base_uri": "https://localhost:8080/"
        },
        "id": "qAdAvLywLxEK",
        "outputId": "8193cabb-5aa4-414c-d844-f32887b35f76"
      },
      "execution_count": 7,
      "outputs": [
        {
          "output_type": "stream",
          "name": "stdout",
          "text": [
            "Ismingizni kiriting: obidjon\n",
            "Assalomu alaykum Obidjon Google colabga xush kilebsiz!\n"
          ]
        }
      ]
    }
  ]
}