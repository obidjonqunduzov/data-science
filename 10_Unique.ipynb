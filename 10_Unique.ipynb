{
  "nbformat": 4,
  "nbformat_minor": 0,
  "metadata": {
    "colab": {
      "provenance": [],
      "authorship_tag": "ABX9TyNMV1JM3Js2Eh84triFVY9a",
      "include_colab_link": true
    },
    "kernelspec": {
      "name": "python3",
      "display_name": "Python 3"
    },
    "language_info": {
      "name": "python"
    }
  },
  "cells": [
    {
      "cell_type": "markdown",
      "metadata": {
        "id": "view-in-github",
        "colab_type": "text"
      },
      "source": [
        "<a href=\"https://colab.research.google.com/github/obidjonqunduzov/data-science/blob/main/10_Unique.ipynb\" target=\"_parent\"><img src=\"https://colab.research.google.com/assets/colab-badge.svg\" alt=\"Open In Colab\"/></a>"
      ]
    },
    {
      "cell_type": "code",
      "execution_count": 1,
      "metadata": {
        "id": "KaUbotR43k0I"
      },
      "outputs": [],
      "source": [
        "import numpy as np"
      ]
    },
    {
      "cell_type": "markdown",
      "source": [
        "Massivga yo'naltirilgan dasturlar unique, in1d, setdiff1d bilan tanishamiz"
      ],
      "metadata": {
        "id": "yLzTxqkx33Nr"
      }
    },
    {
      "cell_type": "code",
      "source": [
        "names = np.array(['Ali','Hasan','Vali','Olim','Bobir','Vali','Doston','Ali']) # names massividagi takrorlanmas elementlarni qaytaradi\n",
        "np.unique(names)"
      ],
      "metadata": {
        "colab": {
          "base_uri": "https://localhost:8080/"
        },
        "id": "0ONV92zo3yDW",
        "outputId": "aef94d16-3235-490f-cacf-74e6408a912a"
      },
      "execution_count": 3,
      "outputs": [
        {
          "output_type": "execute_result",
          "data": {
            "text/plain": [
              "array(['Ali', 'Bobir', 'Doston', 'Hasan', 'Olim', 'Vali'], dtype='<U6')"
            ]
          },
          "metadata": {},
          "execution_count": 3
        }
      ]
    },
    {
      "cell_type": "code",
      "source": [
        "array_1 = np.array([4,5,6,0,4,0,1,5,]) # array_2 massivini array_1 elementlari bilan taqqoslab ikkita bir xel qiymatni True aksincha bo'lsa False qaytaradi\n",
        "array_2 = np.array([0,1,2,4,5])\n",
        "np.in1d(array_1, array_2)"
      ],
      "metadata": {
        "colab": {
          "base_uri": "https://localhost:8080/"
        },
        "id": "SUCP1HdY4ikS",
        "outputId": "9026b7e6-673e-4b93-d882-49dbd90e39a7"
      },
      "execution_count": 5,
      "outputs": [
        {
          "output_type": "execute_result",
          "data": {
            "text/plain": [
              "array([ True,  True, False,  True,  True,  True,  True,  True])"
            ]
          },
          "metadata": {},
          "execution_count": 5
        }
      ]
    },
    {
      "cell_type": "code",
      "source": [
        "names_1 = np.array(['Ali','Hasan','Vali','Olim','Bobir']) # names_1 massivini names_2 massividagi takrorlanmas  elementini qaytaradi\n",
        "names_2 = np.array(['Doston','Olim','Hasan','Ali','obid'])\n",
        "np.setdiff1d(names_1, names_2)"
      ],
      "metadata": {
        "colab": {
          "base_uri": "https://localhost:8080/"
        },
        "id": "XuPqriJy5WKe",
        "outputId": "7c441da2-3684-4121-ef55-2282f7e13017"
      },
      "execution_count": 11,
      "outputs": [
        {
          "output_type": "execute_result",
          "data": {
            "text/plain": [
              "array(['Bobir', 'Vali'], dtype='<U5')"
            ]
          },
          "metadata": {},
          "execution_count": 11
        }
      ]
    },
    {
      "cell_type": "code",
      "source": [
        "names_1 = np.array(['Ali','Hasan','Vali','Olim','Bobir']) # names_2 massivini names_1 massividagi takrorlanmas  elementini qaytaradi\n",
        "names_2 = np.array(['Doston','Olim','Hasan','Ali','obid'])\n",
        "np.setdiff1d(names_2, names_1)"
      ],
      "metadata": {
        "colab": {
          "base_uri": "https://localhost:8080/"
        },
        "id": "Kis5K7P26LKR",
        "outputId": "e58bf08c-2aa7-4af5-90a8-d73a11f5d93e"
      },
      "execution_count": 12,
      "outputs": [
        {
          "output_type": "execute_result",
          "data": {
            "text/plain": [
              "array(['Doston', 'obid'], dtype='<U6')"
            ]
          },
          "metadata": {},
          "execution_count": 12
        }
      ]
    },
    {
      "cell_type": "code",
      "source": [],
      "metadata": {
        "id": "9xdDJPBv7CBS"
      },
      "execution_count": null,
      "outputs": []
    }
  ]
}