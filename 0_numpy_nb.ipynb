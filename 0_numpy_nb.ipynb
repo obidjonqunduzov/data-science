{
  "nbformat": 4,
  "nbformat_minor": 0,
  "metadata": {
    "colab": {
      "provenance": [],
      "authorship_tag": "ABX9TyN+3v1D2EMwONcoJc/h49AL",
      "include_colab_link": true
    },
    "kernelspec": {
      "name": "python3",
      "display_name": "Python 3"
    },
    "language_info": {
      "name": "python"
    }
  },
  "cells": [
    {
      "cell_type": "markdown",
      "metadata": {
        "id": "view-in-github",
        "colab_type": "text"
      },
      "source": [
        "<a href=\"https://colab.research.google.com/github/obidjonqunduzov/data-science/blob/main/0_numpy_nb.ipynb\" target=\"_parent\"><img src=\"https://colab.research.google.com/assets/colab-badge.svg\" alt=\"Open In Colab\"/></a>"
      ]
    },
    {
      "cell_type": "code",
      "source": [
        "import numpy as np"
      ],
      "metadata": {
        "id": "_4uJlk3ggdxO"
      },
      "execution_count": 7,
      "outputs": []
    },
    {
      "cell_type": "code",
      "execution_count": 13,
      "metadata": {
        "id": "9YLK1sP7fv_g"
      },
      "outputs": [],
      "source": [
        "my_list_python = list(range(1000000)) # pythonda list 0-99999 Normal hisoblash!"
      ]
    },
    {
      "cell_type": "code",
      "source": [
        "my_array_numpy = np.array(range(1000000)) # Numpy da 0-99999 Viktorlashgan hisoblash!"
      ],
      "metadata": {
        "id": "GYblxyPkgYbs"
      },
      "execution_count": 14,
      "outputs": []
    },
    {
      "cell_type": "code",
      "source": [
        "%time for _ in range(10): [x*2 for x in my_list_python] # Normal"
      ],
      "metadata": {
        "colab": {
          "base_uri": "https://localhost:8080/"
        },
        "id": "Vcl_tmVLhzHc",
        "outputId": "6931d2d3-d2c4-4a3b-9094-2f4b453e66c3"
      },
      "execution_count": 15,
      "outputs": [
        {
          "output_type": "stream",
          "name": "stdout",
          "text": [
            "CPU times: user 647 ms, sys: 180 ms, total: 827 ms\n",
            "Wall time: 834 ms\n"
          ]
        }
      ]
    },
    {
      "cell_type": "code",
      "source": [
        "%time for _ in range(10): my_array_numpy*2 # Viktorlashgan"
      ],
      "metadata": {
        "colab": {
          "base_uri": "https://localhost:8080/"
        },
        "id": "NkUMgXFOiPB7",
        "outputId": "93f7ee88-357d-48c0-9b1b-a45f5ffc421d"
      },
      "execution_count": 16,
      "outputs": [
        {
          "output_type": "stream",
          "name": "stdout",
          "text": [
            "CPU times: user 16.6 ms, sys: 0 ns, total: 16.6 ms\n",
            "Wall time: 18.7 ms\n"
          ]
        }
      ]
    },
    {
      "cell_type": "code",
      "source": [
        "834/18.7"
      ],
      "metadata": {
        "colab": {
          "base_uri": "https://localhost:8080/"
        },
        "id": "kEjCbl5ejo7d",
        "outputId": "0a4c5271-a09f-4045-e65d-216f6d7a0cfe"
      },
      "execution_count": 17,
      "outputs": [
        {
          "output_type": "execute_result",
          "data": {
            "text/plain": [
              "44.598930481283425"
            ]
          },
          "metadata": {},
          "execution_count": 17
        }
      ]
    }
  ]
}