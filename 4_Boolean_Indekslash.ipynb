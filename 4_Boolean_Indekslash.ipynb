{
  "nbformat": 4,
  "nbformat_minor": 0,
  "metadata": {
    "colab": {
      "provenance": [],
      "authorship_tag": "ABX9TyM+LCUA0cbYfuVu+jXkK08s",
      "include_colab_link": true
    },
    "kernelspec": {
      "name": "python3",
      "display_name": "Python 3"
    },
    "language_info": {
      "name": "python"
    }
  },
  "cells": [
    {
      "cell_type": "markdown",
      "metadata": {
        "id": "view-in-github",
        "colab_type": "text"
      },
      "source": [
        "<a href=\"https://colab.research.google.com/github/obidjonqunduzov/data-science/blob/main/4_Boolean_Indekslash.ipynb\" target=\"_parent\"><img src=\"https://colab.research.google.com/assets/colab-badge.svg\" alt=\"Open In Colab\"/></a>"
      ]
    },
    {
      "cell_type": "code",
      "execution_count": null,
      "metadata": {
        "id": "tChHtr88VNC5"
      },
      "outputs": [],
      "source": [
        "import numpy as np"
      ]
    },
    {
      "cell_type": "markdown",
      "source": [
        "N - o'lchamli massivlarga ishlov berish"
      ],
      "metadata": {
        "id": "Hpdm0m62VtH6"
      }
    },
    {
      "cell_type": "code",
      "source": [
        "names = np.array(['olim','obid','hasan','ali','vali'])\n",
        "names"
      ],
      "metadata": {
        "colab": {
          "base_uri": "https://localhost:8080/"
        },
        "id": "WAYN2cTxVrwl",
        "outputId": "f353fd04-1df8-4896-8be2-6f223ca684c3"
      },
      "execution_count": null,
      "outputs": [
        {
          "output_type": "execute_result",
          "data": {
            "text/plain": [
              "array(['olim', 'obid', 'hasan', 'ali', 'vali'], dtype='<U5')"
            ]
          },
          "metadata": {},
          "execution_count": 55
        }
      ]
    },
    {
      "cell_type": "code",
      "source": [
        "data_1 = np.random.randn(5, 3)\n",
        "data_1"
      ],
      "metadata": {
        "colab": {
          "base_uri": "https://localhost:8080/"
        },
        "id": "lCh32KHqWAdt",
        "outputId": "50e05b7d-e030-43ad-8842-1a6d55535e84"
      },
      "execution_count": null,
      "outputs": [
        {
          "output_type": "execute_result",
          "data": {
            "text/plain": [
              "array([[-1.193449  , -0.30525552, -0.2905246 ],\n",
              "       [-1.14789416,  0.05710541,  0.9307657 ],\n",
              "       [ 0.62895588, -0.15613611, -0.60365674],\n",
              "       [-0.70469338,  1.01841449,  1.76380079],\n",
              "       [ 2.18720282, -1.20435624,  0.52941807]])"
            ]
          },
          "metadata": {},
          "execution_count": 86
        }
      ]
    },
    {
      "cell_type": "code",
      "source": [
        "names == 'olim' # bu olim ismini True qaytaradi qolganlarni False qaytaradi\n"
      ],
      "metadata": {
        "colab": {
          "base_uri": "https://localhost:8080/"
        },
        "id": "SP3uZ3OyWNo6",
        "outputId": "a07d97ca-e6e8-45a7-93bf-88b27470aaa0"
      },
      "execution_count": null,
      "outputs": [
        {
          "output_type": "execute_result",
          "data": {
            "text/plain": [
              "array([ True, False, False, False, False])"
            ]
          },
          "metadata": {},
          "execution_count": 57
        }
      ]
    },
    {
      "cell_type": "code",
      "source": [
        "data_1[names == 'ali'] # ali ga tegishli ma'lumotlarni qaytaradi"
      ],
      "metadata": {
        "id": "I6i21iv7W0O5",
        "colab": {
          "base_uri": "https://localhost:8080/"
        },
        "outputId": "c19ed955-bb02-4a85-c1b8-9b378816ca0e"
      },
      "execution_count": null,
      "outputs": [
        {
          "output_type": "execute_result",
          "data": {
            "text/plain": [
              "array([[-1.28105405, -2.02224114, -1.49159087]])"
            ]
          },
          "metadata": {},
          "execution_count": 58
        }
      ]
    },
    {
      "cell_type": "code",
      "source": [
        "data_1[names=='hasan'] # hasanga tegishli ma'lumotlarni qaytaradi"
      ],
      "metadata": {
        "colab": {
          "base_uri": "https://localhost:8080/"
        },
        "id": "bBNaOZa4Xdy8",
        "outputId": "8719dbd9-9292-42d3-af65-561cf30a9a19"
      },
      "execution_count": null,
      "outputs": [
        {
          "output_type": "execute_result",
          "data": {
            "text/plain": [
              "array([[1.43591856, 0.90248432, 0.83007057]])"
            ]
          },
          "metadata": {},
          "execution_count": 59
        }
      ]
    },
    {
      "cell_type": "code",
      "source": [
        "data_1[names=='obid', 0:2] # obid ni ma'lumotlaridan 2 tasini ajratib oladi"
      ],
      "metadata": {
        "colab": {
          "base_uri": "https://localhost:8080/"
        },
        "id": "YIu3O-ysXqZz",
        "outputId": "dc15abf5-1732-42dd-adfc-2813b2e97bac"
      },
      "execution_count": null,
      "outputs": [
        {
          "output_type": "execute_result",
          "data": {
            "text/plain": [
              "array([[-0.24018792,  0.07876384]])"
            ]
          },
          "metadata": {},
          "execution_count": 60
        }
      ]
    },
    {
      "cell_type": "code",
      "source": [
        "data_1[names !='hasan'] # (!=) hasandan boshqa hammani ma'lumotini qaytaradi"
      ],
      "metadata": {
        "colab": {
          "base_uri": "https://localhost:8080/"
        },
        "id": "k_KGthXsXhuG",
        "outputId": "55ea7044-8897-4118-9b53-87bf7dbd85e2"
      },
      "execution_count": null,
      "outputs": [
        {
          "output_type": "execute_result",
          "data": {
            "text/plain": [
              "array([[ 0.00996639, -1.37531759,  0.66792661],\n",
              "       [ 0.49553033, -0.78022292,  0.26613168],\n",
              "       [ 0.85091309,  1.28453401,  0.3589106 ],\n",
              "       [-1.39470294,  0.71840381, -0.61290938]])"
            ]
          },
          "metadata": {},
          "execution_count": 20
        }
      ]
    },
    {
      "cell_type": "code",
      "source": [
        "data_1[~(names=='hasan')] #(~) bu ham hasan dan boshqa hammani ma'lumotlarini chiqaradi"
      ],
      "metadata": {
        "colab": {
          "base_uri": "https://localhost:8080/"
        },
        "id": "njaOnK-bYI04",
        "outputId": "d48fcdfb-4865-4a23-edce-2da9ffbba2f7"
      },
      "execution_count": null,
      "outputs": [
        {
          "output_type": "execute_result",
          "data": {
            "text/plain": [
              "array([[ 0.43549732, -0.31753116, -0.41179826],\n",
              "       [-0.24018792,  0.07876384, -0.19195631],\n",
              "       [-1.28105405, -2.02224114, -1.49159087],\n",
              "       [-1.82608166, -1.69415547,  1.87765256]])"
            ]
          },
          "metadata": {},
          "execution_count": 61
        }
      ]
    },
    {
      "cell_type": "code",
      "source": [
        "print(names)\n",
        "print(data_1)"
      ],
      "metadata": {
        "colab": {
          "base_uri": "https://localhost:8080/"
        },
        "id": "d9HKn2lNdxBA",
        "outputId": "d6668359-ffec-47df-8b41-f96e46005478"
      },
      "execution_count": null,
      "outputs": [
        {
          "output_type": "stream",
          "name": "stdout",
          "text": [
            "['olim' 'obid' 'hasan' 'ali' 'vali']\n",
            "[[-1.193449   -0.30525552 -0.2905246 ]\n",
            " [-1.14789416  0.05710541  0.9307657 ]\n",
            " [ 0.62895588 -0.15613611 -0.60365674]\n",
            " [-0.70469338  1.01841449  1.76380079]\n",
            " [ 2.18720282 -1.20435624  0.52941807]]\n"
          ]
        }
      ]
    },
    {
      "cell_type": "code",
      "source": [
        "mask = (names=='hasan') | (names=='ali') # \"|\" bu belgi or (yoki) deyiladi\n",
        "mask"
      ],
      "metadata": {
        "colab": {
          "base_uri": "https://localhost:8080/"
        },
        "id": "xduCGK2MZJCI",
        "outputId": "69a5ebe4-6170-4a8a-9eab-6b11bebc17bd"
      },
      "execution_count": null,
      "outputs": [
        {
          "output_type": "execute_result",
          "data": {
            "text/plain": [
              "array([False, False,  True,  True, False])"
            ]
          },
          "metadata": {},
          "execution_count": 88
        }
      ]
    },
    {
      "cell_type": "code",
      "source": [
        "data_1[mask, 0:]"
      ],
      "metadata": {
        "colab": {
          "base_uri": "https://localhost:8080/"
        },
        "id": "hZ_fIK59blae",
        "outputId": "ad8b34be-f7fb-4675-fbc0-5af2f946802a"
      },
      "execution_count": null,
      "outputs": [
        {
          "output_type": "execute_result",
          "data": {
            "text/plain": [
              "array([[ 0.62895588, -0.15613611, -0.60365674],\n",
              "       [-0.70469338,  1.01841449,  1.76380079]])"
            ]
          },
          "metadata": {},
          "execution_count": 93
        }
      ]
    },
    {
      "cell_type": "code",
      "source": [
        "data_1"
      ],
      "metadata": {
        "colab": {
          "base_uri": "https://localhost:8080/"
        },
        "id": "P9UGGZlzc9lD",
        "outputId": "b6357dc7-d497-494d-899b-670c23e671e1"
      },
      "execution_count": null,
      "outputs": [
        {
          "output_type": "execute_result",
          "data": {
            "text/plain": [
              "array([[-1.193449  , -0.30525552, -0.2905246 ],\n",
              "       [-1.14789416,  0.05710541,  0.9307657 ],\n",
              "       [ 0.62895588, -0.15613611, -0.60365674],\n",
              "       [-0.70469338,  1.01841449,  1.76380079],\n",
              "       [ 2.18720282, -1.20435624,  0.52941807]])"
            ]
          },
          "metadata": {},
          "execution_count": 94
        }
      ]
    },
    {
      "cell_type": "code",
      "source": [
        "data_1[data_1<0]=0 # bu 0 dan kichik manfiy sonlarni tashlab yuboradi\n",
        "data_1"
      ],
      "metadata": {
        "colab": {
          "base_uri": "https://localhost:8080/"
        },
        "id": "76QdBGiJe17E",
        "outputId": "bd5acbb5-8e0e-46fa-aabe-96cafa30f487"
      },
      "execution_count": null,
      "outputs": [
        {
          "output_type": "execute_result",
          "data": {
            "text/plain": [
              "array([[0.        , 0.        , 0.        ],\n",
              "       [0.        , 0.05710541, 0.9307657 ],\n",
              "       [0.62895588, 0.        , 0.        ],\n",
              "       [0.        , 1.01841449, 1.76380079],\n",
              "       [2.18720282, 0.        , 0.52941807]])"
            ]
          },
          "metadata": {},
          "execution_count": 108
        }
      ]
    }
  ]
}