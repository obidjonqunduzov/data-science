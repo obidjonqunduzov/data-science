{
  "nbformat": 4,
  "nbformat_minor": 0,
  "metadata": {
    "colab": {
      "provenance": [],
      "authorship_tag": "ABX9TyOXqtygChXk72XsivTBWdvm",
      "include_colab_link": true
    },
    "kernelspec": {
      "name": "python3",
      "display_name": "Python 3"
    },
    "language_info": {
      "name": "python"
    }
  },
  "cells": [
    {
      "cell_type": "markdown",
      "metadata": {
        "id": "view-in-github",
        "colab_type": "text"
      },
      "source": [
        "<a href=\"https://colab.research.google.com/github/obidjonqunduzov/data-science/blob/main/11_Numpy_files.ipynb\" target=\"_parent\"><img src=\"https://colab.research.google.com/assets/colab-badge.svg\" alt=\"Open In Colab\"/></a>"
      ]
    },
    {
      "cell_type": "markdown",
      "source": [
        "Numpy kutubxonasidagi fayllar bilan ishlashni ko'ramiz"
      ],
      "metadata": {
        "id": "IrzLFfQE-DLr"
      }
    },
    {
      "cell_type": "code",
      "source": [
        "import numpy as np"
      ],
      "metadata": {
        "id": "PadSLtF7-O4z"
      },
      "execution_count": null,
      "outputs": []
    },
    {
      "cell_type": "code",
      "execution_count": null,
      "metadata": {
        "colab": {
          "base_uri": "https://localhost:8080/"
        },
        "id": "ayFfDAas9yrW",
        "outputId": "01b08222-8d7c-427e-8cfb-6b6b34445f0d"
      },
      "outputs": [
        {
          "output_type": "execute_result",
          "data": {
            "text/plain": [
              "array([0, 1, 2, 3, 4, 5, 6, 7, 8, 9])"
            ]
          },
          "metadata": {},
          "execution_count": 2
        }
      ],
      "source": [
        "array_1 = np.arange(10)\n",
        "array_1"
      ]
    },
    {
      "cell_type": "code",
      "source": [
        "np.save('array_arange', array_1) # array_1 massivini 'array_arange fayiliga yuklab oldek"
      ],
      "metadata": {
        "id": "PsKql8u1-Xvi"
      },
      "execution_count": null,
      "outputs": []
    },
    {
      "cell_type": "code",
      "source": [
        "read_array_1 = np.load('array_arange.npy') # yuklab olgan faylimizni read_array_1 o'zgaruvchisiga yuklab oldek\n",
        "read_array_1 # va usha fayilni ochamiz"
      ],
      "metadata": {
        "colab": {
          "base_uri": "https://localhost:8080/"
        },
        "id": "fFFHo1gS-tUS",
        "outputId": "32f703ac-095b-4970-98cb-d961ddbef867"
      },
      "execution_count": null,
      "outputs": [
        {
          "output_type": "execute_result",
          "data": {
            "text/plain": [
              "array([0, 1, 2, 3, 4, 5, 6, 7, 8, 9])"
            ]
          },
          "metadata": {},
          "execution_count": 8
        }
      ]
    },
    {
      "cell_type": "code",
      "source": [
        "array_2 = np.random.randn(4,3)\n",
        "array_2"
      ],
      "metadata": {
        "colab": {
          "base_uri": "https://localhost:8080/"
        },
        "id": "6j3A5jGe_Gvc",
        "outputId": "ac685adf-476f-4193-aa5c-07e7e6009888"
      },
      "execution_count": null,
      "outputs": [
        {
          "output_type": "execute_result",
          "data": {
            "text/plain": [
              "array([[ 0.74686603, -0.45180601, -0.11406879],\n",
              "       [-0.53841446,  3.31179243, -0.71908481],\n",
              "       [-0.17591934, -2.15359504,  0.69354038],\n",
              "       [ 0.57229728,  1.17632623, -0.02990521]])"
            ]
          },
          "metadata": {},
          "execution_count": 16
        }
      ]
    },
    {
      "cell_type": "code",
      "source": [
        "np.save('array_random', array_2)"
      ],
      "metadata": {
        "id": "eoYHaLD3_7Xx"
      },
      "execution_count": null,
      "outputs": []
    },
    {
      "cell_type": "code",
      "source": [
        "read_array_2 = np.load('array_random.npy') # bu iikinchi fayl\n",
        "read_array_2"
      ],
      "metadata": {
        "colab": {
          "base_uri": "https://localhost:8080/"
        },
        "id": "Hl9QWFfyAPh9",
        "outputId": "0b61e439-bca7-444f-d14a-7d7de44b6c87"
      },
      "execution_count": null,
      "outputs": [
        {
          "output_type": "execute_result",
          "data": {
            "text/plain": [
              "array([[ 0.74686603, -0.45180601, -0.11406879],\n",
              "       [-0.53841446,  3.31179243, -0.71908481],\n",
              "       [-0.17591934, -2.15359504,  0.69354038],\n",
              "       [ 0.57229728,  1.17632623, -0.02990521]])"
            ]
          },
          "metadata": {},
          "execution_count": 20
        }
      ]
    },
    {
      "cell_type": "code",
      "source": [
        "np.savez('array_s', a=array_1, b=array_2) # bu metod yordamida bir nechta array larni bir faylga yuklaymiz"
      ],
      "metadata": {
        "id": "wKJ1poCSAZPf"
      },
      "execution_count": null,
      "outputs": []
    },
    {
      "cell_type": "code",
      "source": [
        "read_array_s = np.load('array_s.npz') # avval faylni o'zini chaqirib olamiz\n"
      ],
      "metadata": {
        "id": "fLFi_2cFA3Ud"
      },
      "execution_count": null,
      "outputs": []
    },
    {
      "cell_type": "code",
      "source": [
        "read_array_s['a']"
      ],
      "metadata": {
        "colab": {
          "base_uri": "https://localhost:8080/"
        },
        "id": "16wekWHkBEKY",
        "outputId": "b13fd740-0b12-49d0-9336-e0a31c2de7a6"
      },
      "execution_count": null,
      "outputs": [
        {
          "output_type": "execute_result",
          "data": {
            "text/plain": [
              "array([0, 1, 2, 3, 4, 5, 6, 7, 8, 9])"
            ]
          },
          "metadata": {},
          "execution_count": 34
        }
      ]
    },
    {
      "cell_type": "code",
      "source": [
        "read_array_s['b']"
      ],
      "metadata": {
        "colab": {
          "base_uri": "https://localhost:8080/"
        },
        "id": "Lk67qpmdB_FO",
        "outputId": "b15365b9-2627-406f-d11e-c04464cb21d7"
      },
      "execution_count": null,
      "outputs": [
        {
          "output_type": "execute_result",
          "data": {
            "text/plain": [
              "array([[ 0.74686603, -0.45180601, -0.11406879],\n",
              "       [-0.53841446,  3.31179243, -0.71908481],\n",
              "       [-0.17591934, -2.15359504,  0.69354038],\n",
              "       [ 0.57229728,  1.17632623, -0.02990521]])"
            ]
          },
          "metadata": {},
          "execution_count": 33
        }
      ]
    },
    {
      "cell_type": "code",
      "source": [],
      "metadata": {
        "id": "z-AKIkcoCBKS"
      },
      "execution_count": null,
      "outputs": []
    }
  ]
}