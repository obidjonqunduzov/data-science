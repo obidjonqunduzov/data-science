{
  "nbformat": 4,
  "nbformat_minor": 0,
  "metadata": {
    "colab": {
      "provenance": [],
      "authorship_tag": "ABX9TyPxsIHf/M12zz1p+K3hWvJW",
      "include_colab_link": true
    },
    "kernelspec": {
      "name": "python3",
      "display_name": "Python 3"
    },
    "language_info": {
      "name": "python"
    }
  },
  "cells": [
    {
      "cell_type": "markdown",
      "metadata": {
        "id": "view-in-github",
        "colab_type": "text"
      },
      "source": [
        "<a href=\"https://colab.research.google.com/github/obidjonqunduzov/data-science/blob/main/9_Math_stat.ipynb\" target=\"_parent\"><img src=\"https://colab.research.google.com/assets/colab-badge.svg\" alt=\"Open In Colab\"/></a>"
      ]
    },
    {
      "cell_type": "code",
      "execution_count": 2,
      "metadata": {
        "id": "FN5_g8Dsj4ii"
      },
      "outputs": [],
      "source": [
        "import numpy as np"
      ]
    },
    {
      "cell_type": "code",
      "source": [
        "array_1 = np.random.randn(5, 5)\n",
        "array_1"
      ],
      "metadata": {
        "colab": {
          "base_uri": "https://localhost:8080/"
        },
        "id": "FUX3RFj_kDP3",
        "outputId": "bc07e7f6-ec97-4132-b7b6-99bbd19bbc8a"
      },
      "execution_count": 6,
      "outputs": [
        {
          "output_type": "execute_result",
          "data": {
            "text/plain": [
              "array([[ 1.48863561, -0.26378149,  1.57586073, -1.11865808, -2.45774593],\n",
              "       [-2.36609321,  0.51148766, -0.41963878,  0.77429308,  0.31730602],\n",
              "       [-0.36412797,  2.13388152, -0.89662585, -0.66682765,  1.0146514 ],\n",
              "       [ 0.53046828,  0.41661741, -0.19251367,  0.12523751, -0.50578376],\n",
              "       [ 0.83867941,  0.7888193 , -0.89429961,  0.19644887,  1.56658057]])"
            ]
          },
          "metadata": {},
          "execution_count": 6
        }
      ]
    },
    {
      "cell_type": "code",
      "source": [
        "array_1.sum() # array_1 massivning umumy elementlari yi'gindisi"
      ],
      "metadata": {
        "colab": {
          "base_uri": "https://localhost:8080/"
        },
        "id": "SgYf_ZHYkZuO",
        "outputId": "c82b5ea5-199e-48d4-b322-ea0d2f8e3207"
      },
      "execution_count": 7,
      "outputs": [
        {
          "output_type": "execute_result",
          "data": {
            "text/plain": [
              "2.1328713892577023"
            ]
          },
          "metadata": {},
          "execution_count": 7
        }
      ]
    },
    {
      "cell_type": "code",
      "source": [
        "np.sum(array_1) # 2 chimusuli"
      ],
      "metadata": {
        "colab": {
          "base_uri": "https://localhost:8080/"
        },
        "id": "t4T_J7ATkiZV",
        "outputId": "8b218222-9e8e-4a4d-eaee-f62ac6333310"
      },
      "execution_count": 8,
      "outputs": [
        {
          "output_type": "execute_result",
          "data": {
            "text/plain": [
              "2.1328713892577023"
            ]
          },
          "metadata": {},
          "execution_count": 8
        }
      ]
    },
    {
      "cell_type": "code",
      "source": [
        "array_1.sum(axis = 1) # qatorlarni umumumy yi'gindisi"
      ],
      "metadata": {
        "colab": {
          "base_uri": "https://localhost:8080/"
        },
        "id": "YGQZo6vckzjM",
        "outputId": "edc9cb8f-881c-4976-8acb-051916b58b8e"
      },
      "execution_count": 11,
      "outputs": [
        {
          "output_type": "execute_result",
          "data": {
            "text/plain": [
              "array([-0.77568916, -1.18264522,  1.22095146,  0.37402578,  2.49622854])"
            ]
          },
          "metadata": {},
          "execution_count": 11
        }
      ]
    },
    {
      "cell_type": "code",
      "source": [
        "array_1.sum(axis = 0) # ustunlarni umumy yi'gindisi"
      ],
      "metadata": {
        "colab": {
          "base_uri": "https://localhost:8080/"
        },
        "id": "As9vPr2mks2N",
        "outputId": "310f6035-4dc4-41a1-90c1-ba3e3f21b0ad"
      },
      "execution_count": 12,
      "outputs": [
        {
          "output_type": "execute_result",
          "data": {
            "text/plain": [
              "array([ 0.12756212,  3.58702441, -0.82721718, -0.68950626, -0.0649917 ])"
            ]
          },
          "metadata": {},
          "execution_count": 12
        }
      ]
    },
    {
      "cell_type": "code",
      "source": [
        "array_2 = np.arange(11)\n",
        "array_2"
      ],
      "metadata": {
        "colab": {
          "base_uri": "https://localhost:8080/"
        },
        "id": "wwlwUf-Tpn44",
        "outputId": "1ac35113-f1a7-4df9-b480-1b2df44f661f"
      },
      "execution_count": 13,
      "outputs": [
        {
          "output_type": "execute_result",
          "data": {
            "text/plain": [
              "array([ 0,  1,  2,  3,  4,  5,  6,  7,  8,  9, 10])"
            ]
          },
          "metadata": {},
          "execution_count": 13
        }
      ]
    },
    {
      "cell_type": "code",
      "source": [
        "array_2.mean() # array_2 massivining umumiy yi'gindisini o'z elementlar soniga bo'ladi"
      ],
      "metadata": {
        "colab": {
          "base_uri": "https://localhost:8080/"
        },
        "id": "3Del9ybdpRiS",
        "outputId": "3a02b05d-bdfe-4dba-ee40-3d0749b3f630"
      },
      "execution_count": 14,
      "outputs": [
        {
          "output_type": "execute_result",
          "data": {
            "text/plain": [
              "5.0"
            ]
          },
          "metadata": {},
          "execution_count": 14
        }
      ]
    },
    {
      "cell_type": "code",
      "source": [
        "array_3 = np.random.randn(4, 4)\n",
        "array_3"
      ],
      "metadata": {
        "colab": {
          "base_uri": "https://localhost:8080/"
        },
        "id": "eg5hgsGjpwM8",
        "outputId": "48a2f354-6727-4730-9837-d73c110135c8"
      },
      "execution_count": 15,
      "outputs": [
        {
          "output_type": "execute_result",
          "data": {
            "text/plain": [
              "array([[-0.07924456, -0.80588258, -0.15080434,  0.89576414],\n",
              "       [ 0.76292415,  1.8952787 , -0.16897409,  1.505274  ],\n",
              "       [-0.38646644,  0.39416439, -0.14134672,  0.24120794],\n",
              "       [ 0.39028516, -0.34968492, -1.31925336,  0.08371124]])"
            ]
          },
          "metadata": {},
          "execution_count": 15
        }
      ]
    },
    {
      "cell_type": "code",
      "source": [
        "array_3.mean()"
      ],
      "metadata": {
        "colab": {
          "base_uri": "https://localhost:8080/"
        },
        "id": "-buJp3xqqFOi",
        "outputId": "659371bb-4d9d-4f12-fd7d-94f36ff7ab66"
      },
      "execution_count": 16,
      "outputs": [
        {
          "output_type": "execute_result",
          "data": {
            "text/plain": [
              "0.17293454444389708"
            ]
          },
          "metadata": {},
          "execution_count": 16
        }
      ]
    },
    {
      "cell_type": "code",
      "source": [
        "array_3.mean(axis=1) # qator bo'yicha o'rtacha qiymat"
      ],
      "metadata": {
        "colab": {
          "base_uri": "https://localhost:8080/"
        },
        "id": "KFnYVy33qHiB",
        "outputId": "93415f5e-8a0d-436b-b895-cf99d98335fc"
      },
      "execution_count": 17,
      "outputs": [
        {
          "output_type": "execute_result",
          "data": {
            "text/plain": [
              "array([-0.03504183,  0.99862569,  0.02688979, -0.29873547])"
            ]
          },
          "metadata": {},
          "execution_count": 17
        }
      ]
    },
    {
      "cell_type": "code",
      "source": [
        "array_3.mean(axis=0) # ustun bo'yicha o'rtacha qiymat"
      ],
      "metadata": {
        "colab": {
          "base_uri": "https://localhost:8080/"
        },
        "id": "wk0d0AsEqOTJ",
        "outputId": "1c073c55-3318-423c-b84a-f2de91d8b96d"
      },
      "execution_count": 18,
      "outputs": [
        {
          "output_type": "execute_result",
          "data": {
            "text/plain": [
              "array([ 0.17187458,  0.2834689 , -0.44509463,  0.68148933])"
            ]
          },
          "metadata": {},
          "execution_count": 18
        }
      ]
    },
    {
      "cell_type": "code",
      "source": [
        "array_2"
      ],
      "metadata": {
        "colab": {
          "base_uri": "https://localhost:8080/"
        },
        "id": "WXc9HgFFqcyH",
        "outputId": "0f3385d7-15a2-490f-dbc0-0d9f2c016582"
      },
      "execution_count": 19,
      "outputs": [
        {
          "output_type": "execute_result",
          "data": {
            "text/plain": [
              "array([ 0,  1,  2,  3,  4,  5,  6,  7,  8,  9, 10])"
            ]
          },
          "metadata": {},
          "execution_count": 19
        }
      ]
    },
    {
      "cell_type": "code",
      "source": [
        "array_2.cumsum() # massiv elementlarini bir-biriga ketma-ket qoshib chiqaradi"
      ],
      "metadata": {
        "colab": {
          "base_uri": "https://localhost:8080/"
        },
        "id": "PUFc7VHNq06M",
        "outputId": "fa8dc848-72de-45ef-b39d-85eb14cb8d41"
      },
      "execution_count": 21,
      "outputs": [
        {
          "output_type": "execute_result",
          "data": {
            "text/plain": [
              "array([ 0,  1,  3,  6, 10, 15, 21, 28, 36, 45, 55])"
            ]
          },
          "metadata": {},
          "execution_count": 21
        }
      ]
    },
    {
      "cell_type": "code",
      "source": [],
      "metadata": {
        "id": "gsGJ8plEq3od"
      },
      "execution_count": null,
      "outputs": []
    }
  ]
}