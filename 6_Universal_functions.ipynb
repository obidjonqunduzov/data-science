{
  "nbformat": 4,
  "nbformat_minor": 0,
  "metadata": {
    "colab": {
      "provenance": [],
      "authorship_tag": "ABX9TyO9HRybiDHLv06YsUSzG/fd",
      "include_colab_link": true
    },
    "kernelspec": {
      "name": "python3",
      "display_name": "Python 3"
    },
    "language_info": {
      "name": "python"
    }
  },
  "cells": [
    {
      "cell_type": "markdown",
      "metadata": {
        "id": "view-in-github",
        "colab_type": "text"
      },
      "source": [
        "<a href=\"https://colab.research.google.com/github/obidjonqunduzov/data-science/blob/main/6_Universal_functions.ipynb\" target=\"_parent\"><img src=\"https://colab.research.google.com/assets/colab-badge.svg\" alt=\"Open In Colab\"/></a>"
      ]
    },
    {
      "cell_type": "code",
      "execution_count": 1,
      "metadata": {
        "id": "E9QAJ82kJtoc"
      },
      "outputs": [],
      "source": [
        "import numpy as np"
      ]
    },
    {
      "cell_type": "code",
      "source": [
        "array_1 = np.arange(11)\n",
        "array_1"
      ],
      "metadata": {
        "colab": {
          "base_uri": "https://localhost:8080/"
        },
        "id": "ljGrovMHKEQl",
        "outputId": "889a6e9f-a419-466e-ba53-f421334ef929"
      },
      "execution_count": 2,
      "outputs": [
        {
          "output_type": "execute_result",
          "data": {
            "text/plain": [
              "array([ 0,  1,  2,  3,  4,  5,  6,  7,  8,  9, 10])"
            ]
          },
          "metadata": {},
          "execution_count": 2
        }
      ]
    },
    {
      "cell_type": "code",
      "source": [
        "np.sqrt(array_1) # array_1 elementlarini kvadrat ildizini hisoblaydi"
      ],
      "metadata": {
        "colab": {
          "base_uri": "https://localhost:8080/"
        },
        "id": "wuP83wWwKS7H",
        "outputId": "ba7ed334-cc14-4a22-97ab-3de5d44c4e40"
      },
      "execution_count": 3,
      "outputs": [
        {
          "output_type": "execute_result",
          "data": {
            "text/plain": [
              "array([0.        , 1.        , 1.41421356, 1.73205081, 2.        ,\n",
              "       2.23606798, 2.44948974, 2.64575131, 2.82842712, 3.        ,\n",
              "       3.16227766])"
            ]
          },
          "metadata": {},
          "execution_count": 3
        }
      ]
    },
    {
      "cell_type": "code",
      "source": [
        "np.square(array_1) # array_1 elementlarini har birini kvadrtaga ko'taradi"
      ],
      "metadata": {
        "colab": {
          "base_uri": "https://localhost:8080/"
        },
        "id": "ccHulASCKcZj",
        "outputId": "f33e7411-9af7-4a8e-f154-413960392f54"
      },
      "execution_count": 4,
      "outputs": [
        {
          "output_type": "execute_result",
          "data": {
            "text/plain": [
              "array([  0,   1,   4,   9,  16,  25,  36,  49,  64,  81, 100])"
            ]
          },
          "metadata": {},
          "execution_count": 4
        }
      ]
    },
    {
      "cell_type": "code",
      "source": [
        "np.exp(array_1) # array_1 elementlarini exponentini qaytaradi"
      ],
      "metadata": {
        "colab": {
          "base_uri": "https://localhost:8080/"
        },
        "id": "9Msnur2iKocw",
        "outputId": "62acf00c-4f24-43e4-b2ff-72583de06482"
      },
      "execution_count": 5,
      "outputs": [
        {
          "output_type": "execute_result",
          "data": {
            "text/plain": [
              "array([1.00000000e+00, 2.71828183e+00, 7.38905610e+00, 2.00855369e+01,\n",
              "       5.45981500e+01, 1.48413159e+02, 4.03428793e+02, 1.09663316e+03,\n",
              "       2.98095799e+03, 8.10308393e+03, 2.20264658e+04])"
            ]
          },
          "metadata": {},
          "execution_count": 5
        }
      ]
    },
    {
      "cell_type": "code",
      "source": [
        "np.log(array_1[1:]) # array_ elementlarini 0 dan boshqa hamma elementlarini logarifimini hisoblaydi"
      ],
      "metadata": {
        "colab": {
          "base_uri": "https://localhost:8080/"
        },
        "id": "W6OICgM6LF-_",
        "outputId": "60f5ebd0-6484-46a8-8155-3b2949493cd8"
      },
      "execution_count": 7,
      "outputs": [
        {
          "output_type": "execute_result",
          "data": {
            "text/plain": [
              "array([0.        , 0.69314718, 1.09861229, 1.38629436, 1.60943791,\n",
              "       1.79175947, 1.94591015, 2.07944154, 2.19722458, 2.30258509])"
            ]
          },
          "metadata": {},
          "execution_count": 7
        }
      ]
    },
    {
      "cell_type": "code",
      "source": [
        "array_2 = np.random.randn(10)\n",
        "array_2"
      ],
      "metadata": {
        "colab": {
          "base_uri": "https://localhost:8080/"
        },
        "id": "bgg-2wJOK7K1",
        "outputId": "98f22732-af12-40b2-d147-a7b83605a1ca"
      },
      "execution_count": 8,
      "outputs": [
        {
          "output_type": "execute_result",
          "data": {
            "text/plain": [
              "array([ 0.76043135, -1.94589761, -0.75709616,  0.77604672, -0.29816195,\n",
              "        0.40142324, -0.37888894,  0.36876321, -1.17845361,  0.02866188])"
            ]
          },
          "metadata": {},
          "execution_count": 8
        }
      ]
    },
    {
      "cell_type": "code",
      "source": [
        "qoldiq, butun = np.modf(array_2)\n",
        "print(qoldiq)\n",
        "print(butun)"
      ],
      "metadata": {
        "colab": {
          "base_uri": "https://localhost:8080/"
        },
        "id": "l3H-3disLiAU",
        "outputId": "86b0e535-90c3-4816-a0d5-6818355cd41e"
      },
      "execution_count": 12,
      "outputs": [
        {
          "output_type": "stream",
          "name": "stdout",
          "text": [
            "[ 0.76043135 -0.94589761 -0.75709616  0.77604672 -0.29816195  0.40142324\n",
            " -0.37888894  0.36876321 -0.17845361  0.02866188]\n",
            "[ 0. -1. -0.  0. -0.  0. -0.  0. -1.  0.]\n"
          ]
        }
      ]
    },
    {
      "cell_type": "code",
      "source": [
        "np.sign(array_2) # massiv elementlari qiymati manfiy bo'lsa -1 va aksincha musbat bo'lsa 1 qaytaradi"
      ],
      "metadata": {
        "colab": {
          "base_uri": "https://localhost:8080/"
        },
        "id": "mrl-EOfRL2ig",
        "outputId": "57c01eb0-a4c3-4cb0-c724-1f8306c6ad46"
      },
      "execution_count": 13,
      "outputs": [
        {
          "output_type": "execute_result",
          "data": {
            "text/plain": [
              "array([ 1., -1., -1.,  1., -1.,  1., -1.,  1., -1.,  1.])"
            ]
          },
          "metadata": {},
          "execution_count": 13
        }
      ]
    },
    {
      "cell_type": "markdown",
      "source": [
        "isnan massivning elementlarida NaN ma'lumoti bo'lsa True qaytaradi va aksincha esa False qaytaradi"
      ],
      "metadata": {
        "id": "lIMJLU0ZMzlv"
      }
    },
    {
      "cell_type": "code",
      "source": [
        "array_3 = np.random.randn(11)\n",
        "array_3"
      ],
      "metadata": {
        "colab": {
          "base_uri": "https://localhost:8080/"
        },
        "id": "x0hHiDF-L77P",
        "outputId": "8f0fd403-606d-4c67-bf6f-315f242a3c44"
      },
      "execution_count": 15,
      "outputs": [
        {
          "output_type": "execute_result",
          "data": {
            "text/plain": [
              "array([-2.25003512, -0.03854534, -0.42658705, -0.47783732, -2.05395135,\n",
              "       -0.10165905, -1.70863532,  2.21383247,  1.87688487,  0.46882973,\n",
              "        0.77987787])"
            ]
          },
          "metadata": {},
          "execution_count": 15
        }
      ]
    },
    {
      "cell_type": "code",
      "source": [
        "array_4 = np.random.randn(11)\n",
        "array_4"
      ],
      "metadata": {
        "colab": {
          "base_uri": "https://localhost:8080/"
        },
        "id": "_Tobf6KVNTyF",
        "outputId": "5e4a9634-cf52-4202-fa83-76b867cdab1c"
      },
      "execution_count": 16,
      "outputs": [
        {
          "output_type": "execute_result",
          "data": {
            "text/plain": [
              "array([-1.60509275, -0.82210201, -0.00818847, -2.03689138, -0.11414069,\n",
              "       -1.66306582,  0.01515556, -0.3406288 ,  0.43954219,  1.30492579,\n",
              "        0.58002649])"
            ]
          },
          "metadata": {},
          "execution_count": 16
        }
      ]
    },
    {
      "cell_type": "code",
      "source": [
        "np.add(array_3, array_4) # bu funksiya ikkita massiv array_3 va array_4 larni qoshib beradi"
      ],
      "metadata": {
        "colab": {
          "base_uri": "https://localhost:8080/"
        },
        "id": "AC6CBbIZNcWQ",
        "outputId": "d7c93dde-c398-45e0-b72c-b428b2cf5929"
      },
      "execution_count": 17,
      "outputs": [
        {
          "output_type": "execute_result",
          "data": {
            "text/plain": [
              "array([-1.41522733, -2.32616723,  1.24711049, -2.29783007, -0.68489633,\n",
              "       -2.21855284,  0.63588705, -1.91533   , -0.09888048, -0.2840348 ,\n",
              "        0.54277032])"
            ]
          },
          "metadata": {},
          "execution_count": 17
        }
      ]
    },
    {
      "cell_type": "code",
      "source": [
        "array_3 + array_4"
      ],
      "metadata": {
        "colab": {
          "base_uri": "https://localhost:8080/"
        },
        "id": "B7sRXIFqNlH2",
        "outputId": "1d9fb67f-4360-4e09-e690-900bd00c5166"
      },
      "execution_count": 18,
      "outputs": [
        {
          "output_type": "execute_result",
          "data": {
            "text/plain": [
              "array([-1.41522733, -2.32616723,  1.24711049, -2.29783007, -0.68489633,\n",
              "       -2.21855284,  0.63588705, -1.91533   , -0.09888048, -0.2840348 ,\n",
              "        0.54277032])"
            ]
          },
          "metadata": {},
          "execution_count": 18
        }
      ]
    },
    {
      "cell_type": "code",
      "source": [
        "array_3"
      ],
      "metadata": {
        "colab": {
          "base_uri": "https://localhost:8080/"
        },
        "id": "pjM4jNdVNqga",
        "outputId": "bfb618c9-cea4-42d9-ceac-79aacfe12664"
      },
      "execution_count": 21,
      "outputs": [
        {
          "output_type": "execute_result",
          "data": {
            "text/plain": [
              "array([ 0.18986542, -1.50406522,  1.25529895, -0.26093869, -0.57075564,\n",
              "       -0.55548702,  0.62073149, -1.5747012 , -0.53842268, -1.58896059,\n",
              "       -0.03725617])"
            ]
          },
          "metadata": {},
          "execution_count": 21
        }
      ]
    },
    {
      "cell_type": "code",
      "source": [
        "array_4"
      ],
      "metadata": {
        "colab": {
          "base_uri": "https://localhost:8080/"
        },
        "id": "niS1c5oYOAfk",
        "outputId": "62cc7fb1-5056-47fe-9fe1-028c661136bf"
      },
      "execution_count": 22,
      "outputs": [
        {
          "output_type": "execute_result",
          "data": {
            "text/plain": [
              "array([-1.60509275, -0.82210201, -0.00818847, -2.03689138, -0.11414069,\n",
              "       -1.66306582,  0.01515556, -0.3406288 ,  0.43954219,  1.30492579,\n",
              "        0.58002649])"
            ]
          },
          "metadata": {},
          "execution_count": 22
        }
      ]
    },
    {
      "cell_type": "code",
      "source": [
        "np.multiply(array_3, array_4) # array_3 va array_4 massivlarini mos ravishda bir biriga ko'paytirib beradi"
      ],
      "metadata": {
        "colab": {
          "base_uri": "https://localhost:8080/"
        },
        "id": "Ym9GiYIDOR8D",
        "outputId": "3d0b3a28-a2ad-413c-cb56-b9589f8d66e4"
      },
      "execution_count": 23,
      "outputs": [
        {
          "output_type": "execute_result",
          "data": {
            "text/plain": [
              "array([-0.30475161,  1.23649505, -0.01027897,  0.53150377,  0.06514644,\n",
              "        0.92381147,  0.00940753,  0.53638858, -0.23665948, -2.07347566,\n",
              "       -0.02160957])"
            ]
          },
          "metadata": {},
          "execution_count": 23
        }
      ]
    },
    {
      "cell_type": "code",
      "source": [
        "np.maximum(array_4, array_3) # ikkita massivni taqqoslab eng kattasini qaytaradi"
      ],
      "metadata": {
        "colab": {
          "base_uri": "https://localhost:8080/"
        },
        "id": "P-Lw-19fO9Io",
        "outputId": "830bab7a-e6ca-462b-cbf1-82ec90145669"
      },
      "execution_count": 28,
      "outputs": [
        {
          "output_type": "execute_result",
          "data": {
            "text/plain": [
              "array([ 0.18986542, -0.82210201,  1.25529895, -0.26093869, -0.11414069,\n",
              "       -0.55548702,  0.62073149, -0.3406288 ,  0.43954219,  1.30492579,\n",
              "        0.58002649])"
            ]
          },
          "metadata": {},
          "execution_count": 28
        }
      ]
    },
    {
      "cell_type": "code",
      "source": [],
      "metadata": {
        "id": "zZePRUM7PB7X"
      },
      "execution_count": null,
      "outputs": []
    }
  ]
}