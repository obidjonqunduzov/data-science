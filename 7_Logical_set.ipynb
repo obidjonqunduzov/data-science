{
  "nbformat": 4,
  "nbformat_minor": 0,
  "metadata": {
    "colab": {
      "provenance": [],
      "authorship_tag": "ABX9TyNkNkeVMfHkZslUCR6zArFv",
      "include_colab_link": true
    },
    "kernelspec": {
      "name": "python3",
      "display_name": "Python 3"
    },
    "language_info": {
      "name": "python"
    }
  },
  "cells": [
    {
      "cell_type": "markdown",
      "metadata": {
        "id": "view-in-github",
        "colab_type": "text"
      },
      "source": [
        "<a href=\"https://colab.research.google.com/github/obidjonqunduzov/data-science/blob/main/7_Logical_set.ipynb\" target=\"_parent\"><img src=\"https://colab.research.google.com/assets/colab-badge.svg\" alt=\"Open In Colab\"/></a>"
      ]
    },
    {
      "cell_type": "code",
      "source": [
        "import numpy as np"
      ],
      "metadata": {
        "id": "8b_N42egV8kg"
      },
      "execution_count": 1,
      "outputs": []
    },
    {
      "cell_type": "markdown",
      "source": [
        "Mantiqiy shart operatorlarni massiv operator sifatida qo'llash\n",
        "Shart operatori sifatida where dan foydalanish\n",
        "Tassavur qiling bizda ikkita ma'lumotlar (massivlar) mavjud bular: x_array va y_array. Agarda shart Trueni qanoatlantirsa xarr elementini qabul qilgan aksincha esa yarr elementini qabul qilgan yangi massiv hosil qilinsin."
      ],
      "metadata": {
        "id": "wBQweEzhVv4-"
      }
    },
    {
      "cell_type": "code",
      "source": [
        "# Massivlar\n",
        "x_array = np.array([1.1, 1.2, 1.3, 1.4, 1.5, 1.6])\n",
        "y_array = np.array([2.1, 2.2, 2.3, 2.4, 2.5, 2.6])\n"
      ],
      "metadata": {
        "id": "a-hkJeh0WBwu"
      },
      "execution_count": 7,
      "outputs": []
    },
    {
      "cell_type": "code",
      "source": [
        "# Shart\n",
        "cond = np.array([True, False, False, True, True, False])"
      ],
      "metadata": {
        "id": "bQkskml1Wo5i"
      },
      "execution_count": 4,
      "outputs": []
    },
    {
      "cell_type": "code",
      "source": [
        "# Where javobi\n",
        "result = np.where(cond, x_array, y_array) # True - x_array elemntlarini, False - y_array elementlarini qaytaradi\n",
        "result"
      ],
      "metadata": {
        "colab": {
          "base_uri": "https://localhost:8080/"
        },
        "id": "ZWDwPgLoW8vI",
        "outputId": "c88f131f-f31f-4fa1-bba8-914a5ebd27bc"
      },
      "execution_count": 8,
      "outputs": [
        {
          "output_type": "execute_result",
          "data": {
            "text/plain": [
              "array([1.1, 2.2, 2.3, 1.4, 1.5, 2.6])"
            ]
          },
          "metadata": {},
          "execution_count": 8
        }
      ]
    },
    {
      "cell_type": "code",
      "source": [
        "array_1 =  np.random.randn(4,4)\n",
        "array_1"
      ],
      "metadata": {
        "colab": {
          "base_uri": "https://localhost:8080/"
        },
        "id": "IlfI48QeXJge",
        "outputId": "0baea38f-8adf-4ecb-d453-5ec6118276b0"
      },
      "execution_count": 10,
      "outputs": [
        {
          "output_type": "execute_result",
          "data": {
            "text/plain": [
              "array([[ 1.73732906, -0.01146962,  0.15122822,  1.24751406],\n",
              "       [ 0.50438191, -0.37223886, -0.42117543, -0.99749819],\n",
              "       [ 0.57021548, -1.0295535 ,  0.54649078,  0.95239884],\n",
              "       [ 0.55985026,  0.04883657,  0.37354434,  0.94395288]])"
            ]
          },
          "metadata": {},
          "execution_count": 10
        }
      ]
    },
    {
      "cell_type": "code",
      "source": [
        "result = np.where(array_1<0, -1, 1)\n",
        "result"
      ],
      "metadata": {
        "colab": {
          "base_uri": "https://localhost:8080/"
        },
        "id": "dXhc9j8JXse5",
        "outputId": "3bfb6d38-28dc-4533-bedf-31d0c4260df6"
      },
      "execution_count": 11,
      "outputs": [
        {
          "output_type": "execute_result",
          "data": {
            "text/plain": [
              "array([[ 1, -1,  1,  1],\n",
              "       [ 1, -1, -1, -1],\n",
              "       [ 1, -1,  1,  1],\n",
              "       [ 1,  1,  1,  1]])"
            ]
          },
          "metadata": {},
          "execution_count": 11
        }
      ]
    },
    {
      "cell_type": "code",
      "source": [],
      "metadata": {
        "id": "nNJCdXKbX5Q7"
      },
      "execution_count": null,
      "outputs": []
    }
  ]
}